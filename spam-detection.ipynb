{
 "cells": [
  {
   "cell_type": "code",
   "execution_count": 1,
   "id": "f0f5d6a5",
   "metadata": {},
   "outputs": [],
   "source": [
    "import numpy as np\n",
    "import pandas as pd\n",
    "import matplotlib.pyplot as plt\n",
    "import seaborn as sns\n",
    "%matplotlib inline"
   ]
  },
  {
   "cell_type": "code",
   "execution_count": 2,
   "id": "ea9e1a24",
   "metadata": {},
   "outputs": [],
   "source": [
    "from sklearn.preprocessing import LabelEncoder"
   ]
  },
  {
   "cell_type": "code",
   "execution_count": 3,
   "id": "f76c7174",
   "metadata": {},
   "outputs": [],
   "source": [
    "import nltk\n",
    "import re\n",
    "import string\n",
    "from nltk.corpus import stopwords\n",
    "from nltk.stem import WordNetLemmatizer"
   ]
  },
  {
   "cell_type": "code",
   "execution_count": null,
   "id": "5b613d16",
   "metadata": {},
   "outputs": [],
   "source": [
    "nltk.download('wordnet')"
   ]
  },
  {
   "cell_type": "code",
   "execution_count": 4,
   "id": "ea67b476",
   "metadata": {},
   "outputs": [],
   "source": [
    "from nltk.tokenize import word_tokenize"
   ]
  },
  {
   "cell_type": "code",
   "execution_count": 5,
   "id": "3a094d7d",
   "metadata": {},
   "outputs": [],
   "source": [
    "#import dataset\n",
    "data = pd.read_csv('processed_data.csv')"
   ]
  },
  {
   "cell_type": "code",
   "execution_count": 6,
   "id": "16a2da92",
   "metadata": {},
   "outputs": [
    {
     "data": {
      "text/html": [
       "<div>\n",
       "<style scoped>\n",
       "    .dataframe tbody tr th:only-of-type {\n",
       "        vertical-align: middle;\n",
       "    }\n",
       "\n",
       "    .dataframe tbody tr th {\n",
       "        vertical-align: top;\n",
       "    }\n",
       "\n",
       "    .dataframe thead th {\n",
       "        text-align: right;\n",
       "    }\n",
       "</style>\n",
       "<table border=\"1\" class=\"dataframe\">\n",
       "  <thead>\n",
       "    <tr style=\"text-align: right;\">\n",
       "      <th></th>\n",
       "      <th>label</th>\n",
       "      <th>subject</th>\n",
       "      <th>email_to</th>\n",
       "      <th>email_from</th>\n",
       "      <th>message</th>\n",
       "    </tr>\n",
       "  </thead>\n",
       "  <tbody>\n",
       "    <tr>\n",
       "      <th>0</th>\n",
       "      <td>1</td>\n",
       "      <td>Generic Cialis, branded quality@</td>\n",
       "      <td>the00@speedy.uwaterloo.ca</td>\n",
       "      <td>\"Tomas Jacobs\" &lt;RickyAmes@aol.com&gt;</td>\n",
       "      <td>Content-Type: text/html;\\nContent-Transfer-Enc...</td>\n",
       "    </tr>\n",
       "    <tr>\n",
       "      <th>1</th>\n",
       "      <td>0</td>\n",
       "      <td>Typo in /debian/README</td>\n",
       "      <td>debian-mirrors@lists.debian.org</td>\n",
       "      <td>Yan Morin &lt;yan.morin@savoirfairelinux.com&gt;</td>\n",
       "      <td>Hi, i've just updated from the gulus and I che...</td>\n",
       "    </tr>\n",
       "    <tr>\n",
       "      <th>2</th>\n",
       "      <td>1</td>\n",
       "      <td>authentic viagra</td>\n",
       "      <td>&lt;the00@plg.uwaterloo.ca&gt;</td>\n",
       "      <td>\"Sheila Crenshaw\" &lt;7stocknews@tractionmarketin...</td>\n",
       "      <td>Content-Type: text/plain;\\n\\tcharset=\"iso-8859...</td>\n",
       "    </tr>\n",
       "    <tr>\n",
       "      <th>3</th>\n",
       "      <td>1</td>\n",
       "      <td>Nice talking with ya</td>\n",
       "      <td>opt4@speedy.uwaterloo.ca</td>\n",
       "      <td>\"Stormy Dempsey\" &lt;vqucsmdfgvsg@ruraltek.com&gt;</td>\n",
       "      <td>Hey Billy, \\n\\nit was really fun going out the...</td>\n",
       "    </tr>\n",
       "    <tr>\n",
       "      <th>4</th>\n",
       "      <td>1</td>\n",
       "      <td>or trembling; stomach cramps; trouble in sleep...</td>\n",
       "      <td>ktwarwic@speedy.uwaterloo.ca</td>\n",
       "      <td>\"Christi T. Jernigan\" &lt;dcube@totalink.net&gt;</td>\n",
       "      <td>Content-Type: multipart/alternative;\\n        ...</td>\n",
       "    </tr>\n",
       "  </tbody>\n",
       "</table>\n",
       "</div>"
      ],
      "text/plain": [
       "   label                                            subject  \\\n",
       "0      1                  Generic Cialis, branded quality@    \n",
       "1      0                             Typo in /debian/README   \n",
       "2      1                                   authentic viagra   \n",
       "3      1                               Nice talking with ya   \n",
       "4      1  or trembling; stomach cramps; trouble in sleep...   \n",
       "\n",
       "                          email_to  \\\n",
       "0        the00@speedy.uwaterloo.ca   \n",
       "1  debian-mirrors@lists.debian.org   \n",
       "2         <the00@plg.uwaterloo.ca>   \n",
       "3         opt4@speedy.uwaterloo.ca   \n",
       "4     ktwarwic@speedy.uwaterloo.ca   \n",
       "\n",
       "                                          email_from  \\\n",
       "0                 \"Tomas Jacobs\" <RickyAmes@aol.com>   \n",
       "1         Yan Morin <yan.morin@savoirfairelinux.com>   \n",
       "2  \"Sheila Crenshaw\" <7stocknews@tractionmarketin...   \n",
       "3       \"Stormy Dempsey\" <vqucsmdfgvsg@ruraltek.com>   \n",
       "4         \"Christi T. Jernigan\" <dcube@totalink.net>   \n",
       "\n",
       "                                             message  \n",
       "0  Content-Type: text/html;\\nContent-Transfer-Enc...  \n",
       "1  Hi, i've just updated from the gulus and I che...  \n",
       "2  Content-Type: text/plain;\\n\\tcharset=\"iso-8859...  \n",
       "3  Hey Billy, \\n\\nit was really fun going out the...  \n",
       "4  Content-Type: multipart/alternative;\\n        ...  "
      ]
     },
     "execution_count": 6,
     "metadata": {},
     "output_type": "execute_result"
    }
   ],
   "source": [
    "data.head()"
   ]
  },
  {
   "cell_type": "code",
   "execution_count": 7,
   "id": "beca2a0b",
   "metadata": {},
   "outputs": [
    {
     "data": {
      "text/plain": [
       "(75419, 5)"
      ]
     },
     "execution_count": 7,
     "metadata": {},
     "output_type": "execute_result"
    }
   ],
   "source": [
    "data.shape"
   ]
  },
  {
   "cell_type": "code",
   "execution_count": 8,
   "id": "9c1064f1",
   "metadata": {},
   "outputs": [
    {
     "name": "stdout",
     "output_type": "stream",
     "text": [
      "<class 'pandas.core.frame.DataFrame'>\n",
      "RangeIndex: 75419 entries, 0 to 75418\n",
      "Data columns (total 5 columns):\n",
      " #   Column      Non-Null Count  Dtype \n",
      "---  ------      --------------  ----- \n",
      " 0   label       75419 non-null  int64 \n",
      " 1   subject     74626 non-null  object\n",
      " 2   email_to    74843 non-null  object\n",
      " 3   email_from  75419 non-null  object\n",
      " 4   message     73932 non-null  object\n",
      "dtypes: int64(1), object(4)\n",
      "memory usage: 2.9+ MB\n"
     ]
    }
   ],
   "source": [
    "data.info()"
   ]
  },
  {
   "cell_type": "code",
   "execution_count": 9,
   "id": "68e06885",
   "metadata": {},
   "outputs": [],
   "source": [
    "#drop unwanted columns\n",
    "data.drop(columns = ['subject', 'email_to', 'email_from'],inplace = True)"
   ]
  },
  {
   "cell_type": "code",
   "execution_count": 10,
   "id": "9abf85cd",
   "metadata": {},
   "outputs": [],
   "source": [
    "#rename columns Label to label and message to email\n",
    "data.rename(columns = {'Label':'label','message':'email'},inplace=True)"
   ]
  },
  {
   "cell_type": "code",
   "execution_count": 11,
   "id": "9108ddc9",
   "metadata": {},
   "outputs": [
    {
     "data": {
      "text/html": [
       "<div>\n",
       "<style scoped>\n",
       "    .dataframe tbody tr th:only-of-type {\n",
       "        vertical-align: middle;\n",
       "    }\n",
       "\n",
       "    .dataframe tbody tr th {\n",
       "        vertical-align: top;\n",
       "    }\n",
       "\n",
       "    .dataframe thead th {\n",
       "        text-align: right;\n",
       "    }\n",
       "</style>\n",
       "<table border=\"1\" class=\"dataframe\">\n",
       "  <thead>\n",
       "    <tr style=\"text-align: right;\">\n",
       "      <th></th>\n",
       "      <th>label</th>\n",
       "      <th>email</th>\n",
       "    </tr>\n",
       "  </thead>\n",
       "  <tbody>\n",
       "    <tr>\n",
       "      <th>0</th>\n",
       "      <td>1</td>\n",
       "      <td>Content-Type: text/html;\\nContent-Transfer-Enc...</td>\n",
       "    </tr>\n",
       "    <tr>\n",
       "      <th>1</th>\n",
       "      <td>0</td>\n",
       "      <td>Hi, i've just updated from the gulus and I che...</td>\n",
       "    </tr>\n",
       "    <tr>\n",
       "      <th>2</th>\n",
       "      <td>1</td>\n",
       "      <td>Content-Type: text/plain;\\n\\tcharset=\"iso-8859...</td>\n",
       "    </tr>\n",
       "    <tr>\n",
       "      <th>3</th>\n",
       "      <td>1</td>\n",
       "      <td>Hey Billy, \\n\\nit was really fun going out the...</td>\n",
       "    </tr>\n",
       "    <tr>\n",
       "      <th>4</th>\n",
       "      <td>1</td>\n",
       "      <td>Content-Type: multipart/alternative;\\n        ...</td>\n",
       "    </tr>\n",
       "  </tbody>\n",
       "</table>\n",
       "</div>"
      ],
      "text/plain": [
       "   label                                              email\n",
       "0      1  Content-Type: text/html;\\nContent-Transfer-Enc...\n",
       "1      0  Hi, i've just updated from the gulus and I che...\n",
       "2      1  Content-Type: text/plain;\\n\\tcharset=\"iso-8859...\n",
       "3      1  Hey Billy, \\n\\nit was really fun going out the...\n",
       "4      1  Content-Type: multipart/alternative;\\n        ..."
      ]
     },
     "execution_count": 11,
     "metadata": {},
     "output_type": "execute_result"
    }
   ],
   "source": [
    "data.head()"
   ]
  },
  {
   "cell_type": "code",
   "execution_count": 12,
   "id": "122283bf",
   "metadata": {},
   "outputs": [
    {
     "data": {
      "text/plain": [
       "1    50199\n",
       "0    25220\n",
       "Name: label, dtype: int64"
      ]
     },
     "execution_count": 12,
     "metadata": {},
     "output_type": "execute_result"
    }
   ],
   "source": [
    "data['label'].value_counts()"
   ]
  },
  {
   "cell_type": "code",
   "execution_count": 13,
   "id": "f6c39b59",
   "metadata": {},
   "outputs": [
    {
     "data": {
      "text/plain": [
       "label       0\n",
       "email    1487\n",
       "dtype: int64"
      ]
     },
     "execution_count": 13,
     "metadata": {},
     "output_type": "execute_result"
    }
   ],
   "source": [
    "#check sum of null values\n",
    "data.isnull().sum()"
   ]
  },
  {
   "cell_type": "code",
   "execution_count": 14,
   "id": "ed81e662",
   "metadata": {},
   "outputs": [],
   "source": [
    "#drop null values\n",
    "data = data.dropna(axis=0)"
   ]
  },
  {
   "cell_type": "code",
   "execution_count": 15,
   "id": "ac989fb5",
   "metadata": {},
   "outputs": [
    {
     "data": {
      "text/plain": [
       "label    0\n",
       "email    0\n",
       "dtype: int64"
      ]
     },
     "execution_count": 15,
     "metadata": {},
     "output_type": "execute_result"
    }
   ],
   "source": [
    "data.isnull().sum()"
   ]
  },
  {
   "cell_type": "code",
   "execution_count": 16,
   "id": "f1f9f909",
   "metadata": {},
   "outputs": [
    {
     "data": {
      "text/plain": [
       "14883"
      ]
     },
     "execution_count": 16,
     "metadata": {},
     "output_type": "execute_result"
    }
   ],
   "source": [
    "#check the sum of duplicates\n",
    "data.duplicated().sum()"
   ]
  },
  {
   "cell_type": "code",
   "execution_count": 17,
   "id": "6f7d3254",
   "metadata": {},
   "outputs": [],
   "source": [
    "#drop the duplicates keeping the first one \n",
    "data = data.drop_duplicates(keep='first')"
   ]
  },
  {
   "cell_type": "code",
   "execution_count": 18,
   "id": "395f64d8",
   "metadata": {},
   "outputs": [
    {
     "data": {
      "text/plain": [
       "0"
      ]
     },
     "execution_count": 18,
     "metadata": {},
     "output_type": "execute_result"
    }
   ],
   "source": [
    "data.duplicated().sum()"
   ]
  },
  {
   "cell_type": "code",
   "execution_count": 19,
   "id": "37aebc7e",
   "metadata": {},
   "outputs": [
    {
     "data": {
      "text/plain": [
       "(59049, 2)"
      ]
     },
     "execution_count": 19,
     "metadata": {},
     "output_type": "execute_result"
    }
   ],
   "source": [
    "data.shape"
   ]
  },
  {
   "cell_type": "code",
   "execution_count": 20,
   "id": "00b877ca",
   "metadata": {},
   "outputs": [
    {
     "name": "stdout",
     "output_type": "stream",
     "text": [
      "<class 'pandas.core.frame.DataFrame'>\n",
      "Int64Index: 59049 entries, 0 to 75418\n",
      "Data columns (total 2 columns):\n",
      " #   Column  Non-Null Count  Dtype \n",
      "---  ------  --------------  ----- \n",
      " 0   label   59049 non-null  int64 \n",
      " 1   email   59049 non-null  object\n",
      "dtypes: int64(1), object(1)\n",
      "memory usage: 1.4+ MB\n"
     ]
    }
   ],
   "source": [
    "data.info()"
   ]
  },
  {
   "cell_type": "code",
   "execution_count": 21,
   "id": "f9dc27d9",
   "metadata": {},
   "outputs": [
    {
     "data": {
      "text/plain": [
       "count                                                 59049\n",
       "unique                                                59047\n",
       "top       Content-Type: text/html;\\n\\tcharset=\"us-ascii\"...\n",
       "freq                                                      2\n",
       "Name: email, dtype: object"
      ]
     },
     "execution_count": 21,
     "metadata": {},
     "output_type": "execute_result"
    }
   ],
   "source": [
    "data['email'].describe()"
   ]
  },
  {
   "cell_type": "code",
   "execution_count": 22,
   "id": "46a5ca4d",
   "metadata": {},
   "outputs": [
    {
     "data": {
      "text/plain": [
       "count    59049.000000\n",
       "mean         0.585209\n",
       "std          0.492690\n",
       "min          0.000000\n",
       "25%          0.000000\n",
       "50%          1.000000\n",
       "75%          1.000000\n",
       "max          1.000000\n",
       "Name: label, dtype: float64"
      ]
     },
     "execution_count": 22,
     "metadata": {},
     "output_type": "execute_result"
    }
   ],
   "source": [
    "data['label'].describe()"
   ]
  },
  {
   "cell_type": "code",
   "execution_count": 23,
   "id": "5603056a",
   "metadata": {},
   "outputs": [
    {
     "data": {
      "text/plain": [
       "1    34556\n",
       "0    24493\n",
       "Name: label, dtype: int64"
      ]
     },
     "execution_count": 23,
     "metadata": {},
     "output_type": "execute_result"
    }
   ],
   "source": [
    "data['label'].value_counts()"
   ]
  },
  {
   "cell_type": "code",
   "execution_count": 24,
   "id": "6335766a",
   "metadata": {},
   "outputs": [],
   "source": [
    "#dataframe with only ham emails\n",
    "df1 = data[data.label != 1]"
   ]
  },
  {
   "cell_type": "code",
   "execution_count": 25,
   "id": "70f6df67",
   "metadata": {},
   "outputs": [],
   "source": [
    "#dataframe with only spam emails\n",
    "df2 = data[data.label != 0]"
   ]
  },
  {
   "cell_type": "code",
   "execution_count": 26,
   "id": "c158a5a7",
   "metadata": {},
   "outputs": [],
   "source": [
    "#concatenate the two dataframe and form new dataframe with balanced data\n",
    "df = pd.concat([df1,df2[:24000]])"
   ]
  },
  {
   "cell_type": "code",
   "execution_count": 27,
   "id": "54cd162d",
   "metadata": {},
   "outputs": [],
   "source": [
    "# df = data"
   ]
  },
  {
   "cell_type": "code",
   "execution_count": 28,
   "id": "56f47716",
   "metadata": {},
   "outputs": [
    {
     "data": {
      "text/html": [
       "<div>\n",
       "<style scoped>\n",
       "    .dataframe tbody tr th:only-of-type {\n",
       "        vertical-align: middle;\n",
       "    }\n",
       "\n",
       "    .dataframe tbody tr th {\n",
       "        vertical-align: top;\n",
       "    }\n",
       "\n",
       "    .dataframe thead th {\n",
       "        text-align: right;\n",
       "    }\n",
       "</style>\n",
       "<table border=\"1\" class=\"dataframe\">\n",
       "  <thead>\n",
       "    <tr style=\"text-align: right;\">\n",
       "      <th></th>\n",
       "      <th>label</th>\n",
       "      <th>email</th>\n",
       "    </tr>\n",
       "  </thead>\n",
       "  <tbody>\n",
       "    <tr>\n",
       "      <th>1</th>\n",
       "      <td>0</td>\n",
       "      <td>Hi, i've just updated from the gulus and I che...</td>\n",
       "    </tr>\n",
       "    <tr>\n",
       "      <th>9</th>\n",
       "      <td>0</td>\n",
       "      <td>Hi...\\n\\nI have to use R to find out the 90% c...</td>\n",
       "    </tr>\n",
       "    <tr>\n",
       "      <th>19</th>\n",
       "      <td>0</td>\n",
       "      <td>Hm... sounds like a homework problem to me...\\...</td>\n",
       "    </tr>\n",
       "    <tr>\n",
       "      <th>20</th>\n",
       "      <td>0</td>\n",
       "      <td>Gruesse!\\n* V.Harishankar schrieb am [08.04.07...</td>\n",
       "    </tr>\n",
       "    <tr>\n",
       "      <th>28</th>\n",
       "      <td>0</td>\n",
       "      <td>Daer r-helpers,\\n\\nCan anyone help with the fo...</td>\n",
       "    </tr>\n",
       "  </tbody>\n",
       "</table>\n",
       "</div>"
      ],
      "text/plain": [
       "    label                                              email\n",
       "1       0  Hi, i've just updated from the gulus and I che...\n",
       "9       0  Hi...\\n\\nI have to use R to find out the 90% c...\n",
       "19      0  Hm... sounds like a homework problem to me...\\...\n",
       "20      0  Gruesse!\\n* V.Harishankar schrieb am [08.04.07...\n",
       "28      0  Daer r-helpers,\\n\\nCan anyone help with the fo..."
      ]
     },
     "execution_count": 28,
     "metadata": {},
     "output_type": "execute_result"
    }
   ],
   "source": [
    "df1.head()"
   ]
  },
  {
   "cell_type": "code",
   "execution_count": 29,
   "id": "35692538",
   "metadata": {},
   "outputs": [
    {
     "data": {
      "text/html": [
       "<div>\n",
       "<style scoped>\n",
       "    .dataframe tbody tr th:only-of-type {\n",
       "        vertical-align: middle;\n",
       "    }\n",
       "\n",
       "    .dataframe tbody tr th {\n",
       "        vertical-align: top;\n",
       "    }\n",
       "\n",
       "    .dataframe thead th {\n",
       "        text-align: right;\n",
       "    }\n",
       "</style>\n",
       "<table border=\"1\" class=\"dataframe\">\n",
       "  <thead>\n",
       "    <tr style=\"text-align: right;\">\n",
       "      <th></th>\n",
       "      <th>label</th>\n",
       "      <th>email</th>\n",
       "    </tr>\n",
       "  </thead>\n",
       "  <tbody>\n",
       "    <tr>\n",
       "      <th>0</th>\n",
       "      <td>1</td>\n",
       "      <td>Content-Type: text/html;\\nContent-Transfer-Enc...</td>\n",
       "    </tr>\n",
       "    <tr>\n",
       "      <th>2</th>\n",
       "      <td>1</td>\n",
       "      <td>Content-Type: text/plain;\\n\\tcharset=\"iso-8859...</td>\n",
       "    </tr>\n",
       "    <tr>\n",
       "      <th>3</th>\n",
       "      <td>1</td>\n",
       "      <td>Hey Billy, \\n\\nit was really fun going out the...</td>\n",
       "    </tr>\n",
       "    <tr>\n",
       "      <th>4</th>\n",
       "      <td>1</td>\n",
       "      <td>Content-Type: multipart/alternative;\\n        ...</td>\n",
       "    </tr>\n",
       "    <tr>\n",
       "      <th>5</th>\n",
       "      <td>1</td>\n",
       "      <td>Content-Type: multipart/alternative;\\n        ...</td>\n",
       "    </tr>\n",
       "  </tbody>\n",
       "</table>\n",
       "</div>"
      ],
      "text/plain": [
       "   label                                              email\n",
       "0      1  Content-Type: text/html;\\nContent-Transfer-Enc...\n",
       "2      1  Content-Type: text/plain;\\n\\tcharset=\"iso-8859...\n",
       "3      1  Hey Billy, \\n\\nit was really fun going out the...\n",
       "4      1  Content-Type: multipart/alternative;\\n        ...\n",
       "5      1  Content-Type: multipart/alternative;\\n        ..."
      ]
     },
     "execution_count": 29,
     "metadata": {},
     "output_type": "execute_result"
    }
   ],
   "source": [
    "df2.head()"
   ]
  },
  {
   "cell_type": "code",
   "execution_count": 30,
   "id": "c2c2ae7f",
   "metadata": {},
   "outputs": [
    {
     "name": "stdout",
     "output_type": "stream",
     "text": [
      "<class 'pandas.core.frame.DataFrame'>\n",
      "Int64Index: 48493 entries, 1 to 53432\n",
      "Data columns (total 2 columns):\n",
      " #   Column  Non-Null Count  Dtype \n",
      "---  ------  --------------  ----- \n",
      " 0   label   48493 non-null  int64 \n",
      " 1   email   48493 non-null  object\n",
      "dtypes: int64(1), object(1)\n",
      "memory usage: 1.1+ MB\n"
     ]
    }
   ],
   "source": [
    "df.info()"
   ]
  },
  {
   "cell_type": "code",
   "execution_count": 31,
   "id": "4381d887",
   "metadata": {},
   "outputs": [
    {
     "data": {
      "text/plain": [
       "0    24493\n",
       "1    24000\n",
       "Name: label, dtype: int64"
      ]
     },
     "execution_count": 31,
     "metadata": {},
     "output_type": "execute_result"
    }
   ],
   "source": [
    "df['label'].value_counts()"
   ]
  },
  {
   "cell_type": "code",
   "execution_count": 32,
   "id": "646483e2",
   "metadata": {},
   "outputs": [
    {
     "data": {
      "text/plain": [
       "label    0\n",
       "email    0\n",
       "dtype: int64"
      ]
     },
     "execution_count": 32,
     "metadata": {},
     "output_type": "execute_result"
    }
   ],
   "source": [
    "df.isnull().sum()"
   ]
  },
  {
   "cell_type": "code",
   "execution_count": 33,
   "id": "2c1e82f6",
   "metadata": {},
   "outputs": [
    {
     "data": {
      "text/plain": [
       "0"
      ]
     },
     "execution_count": 33,
     "metadata": {},
     "output_type": "execute_result"
    }
   ],
   "source": [
    "df.duplicated().sum()"
   ]
  },
  {
   "cell_type": "code",
   "execution_count": 34,
   "id": "78c529d7",
   "metadata": {},
   "outputs": [],
   "source": [
    "encoder = LabelEncoder()"
   ]
  },
  {
   "cell_type": "code",
   "execution_count": 35,
   "id": "be6117ec",
   "metadata": {},
   "outputs": [],
   "source": [
    "df['label'] = encoder.fit_transform(df['label'])"
   ]
  },
  {
   "cell_type": "code",
   "execution_count": 36,
   "id": "a83ab49e",
   "metadata": {},
   "outputs": [
    {
     "data": {
      "text/plain": [
       "<AxesSubplot:>"
      ]
     },
     "execution_count": 36,
     "metadata": {},
     "output_type": "execute_result"
    },
    {
     "data": {
      "image/png": "[encoded data removed]",
      "text/plain": [
       "<Figure size 432x288 with 1 Axes>"
      ]
     },
     "metadata": {
      "needs_background": "light"
     },
     "output_type": "display_data"
    }
   ],
   "source": [
    "sns.barplot(x=df.label.value_counts().index, y=df.label.value_counts().values)"
   ]
  },
  {
   "cell_type": "code",
   "execution_count": 37,
   "id": "7df6aed4",
   "metadata": {},
   "outputs": [
    {
     "data": {
      "image/png": "[encoded data removed]",
      "text/plain": [
       "<Figure size 432x288 with 1 Axes>"
      ]
     },
     "metadata": {},
     "output_type": "display_data"
    }
   ],
   "source": [
    "plt.pie(df['label'].value_counts(),labels =['ham','spam'],autopct=\"%0.2f\")\n",
    "plt.show()"
   ]
  },
  {
   "cell_type": "code",
   "execution_count": 38,
   "id": "c6c655f8",
   "metadata": {},
   "outputs": [
    {
     "data": {
      "text/html": [
       "<div>\n",
       "<style scoped>\n",
       "    .dataframe tbody tr th:only-of-type {\n",
       "        vertical-align: middle;\n",
       "    }\n",
       "\n",
       "    .dataframe tbody tr th {\n",
       "        vertical-align: top;\n",
       "    }\n",
       "\n",
       "    .dataframe thead th {\n",
       "        text-align: right;\n",
       "    }\n",
       "</style>\n",
       "<table border=\"1\" class=\"dataframe\">\n",
       "  <thead>\n",
       "    <tr style=\"text-align: right;\">\n",
       "      <th></th>\n",
       "      <th>label</th>\n",
       "      <th>email</th>\n",
       "      <th>length</th>\n",
       "    </tr>\n",
       "  </thead>\n",
       "  <tbody>\n",
       "    <tr>\n",
       "      <th>1</th>\n",
       "      <td>0</td>\n",
       "      <td>Hi, i've just updated from the gulus and I che...</td>\n",
       "      <td>728</td>\n",
       "    </tr>\n",
       "    <tr>\n",
       "      <th>9</th>\n",
       "      <td>0</td>\n",
       "      <td>Hi...\\n\\nI have to use R to find out the 90% c...</td>\n",
       "      <td>990</td>\n",
       "    </tr>\n",
       "    <tr>\n",
       "      <th>19</th>\n",
       "      <td>0</td>\n",
       "      <td>Hm... sounds like a homework problem to me...\\...</td>\n",
       "      <td>1162</td>\n",
       "    </tr>\n",
       "    <tr>\n",
       "      <th>20</th>\n",
       "      <td>0</td>\n",
       "      <td>Gruesse!\\n* V.Harishankar schrieb am [08.04.07...</td>\n",
       "      <td>778</td>\n",
       "    </tr>\n",
       "    <tr>\n",
       "      <th>28</th>\n",
       "      <td>0</td>\n",
       "      <td>Daer r-helpers,\\n\\nCan anyone help with the fo...</td>\n",
       "      <td>2089</td>\n",
       "    </tr>\n",
       "  </tbody>\n",
       "</table>\n",
       "</div>"
      ],
      "text/plain": [
       "    label                                              email  length\n",
       "1       0  Hi, i've just updated from the gulus and I che...     728\n",
       "9       0  Hi...\\n\\nI have to use R to find out the 90% c...     990\n",
       "19      0  Hm... sounds like a homework problem to me...\\...    1162\n",
       "20      0  Gruesse!\\n* V.Harishankar schrieb am [08.04.07...     778\n",
       "28      0  Daer r-helpers,\\n\\nCan anyone help with the fo...    2089"
      ]
     },
     "execution_count": 38,
     "metadata": {},
     "output_type": "execute_result"
    }
   ],
   "source": [
    "df['length'] = df.email.str.len()\n",
    "df.head()"
   ]
  },
  {
   "cell_type": "code",
   "execution_count": 39,
   "id": "d8370140",
   "metadata": {},
   "outputs": [],
   "source": [
    "def lower_case(text):\n",
    "    return text.lower()\n",
    "def remove_square_brackets(text):\n",
    "    return re.sub('\\[[^]]*\\]', '', text)\n",
    "def remove_special_characters(text):\n",
    "    pattern = r'[^a-zA-Z\\s]'\n",
    "    text = re.sub(pattern,'',text)\n",
    "    return text\n",
    "def remove_whitespace(text):\n",
    "    return re.sub(r'^\\s+|\\s+?$', '',text)"
   ]
  },
  {
   "cell_type": "code",
   "execution_count": 40,
   "id": "2eca3299",
   "metadata": {},
   "outputs": [],
   "source": [
    "stopword_list = stopwords.words(\"english\")"
   ]
  },
  {
   "cell_type": "code",
   "execution_count": 41,
   "id": "5bb35998",
   "metadata": {},
   "outputs": [
    {
     "name": "stdout",
     "output_type": "stream",
     "text": [
      "['i', 'me', 'my', 'myself', 'we', 'our', 'ours', 'ourselves', 'you', \"you're\", \"you've\", \"you'll\", \"you'd\", 'your', 'yours', 'yourself', 'yourselves', 'he', 'him', 'his', 'himself', 'she', \"she's\", 'her', 'hers', 'herself', 'it', \"it's\", 'its', 'itself', 'they', 'them', 'their', 'theirs', 'themselves', 'what', 'which', 'who', 'whom', 'this', 'that', \"that'll\", 'these', 'those', 'am', 'is', 'are', 'was', 'were', 'be', 'been', 'being', 'have', 'has', 'had', 'having', 'do', 'does', 'did', 'doing', 'a', 'an', 'the', 'and', 'but', 'if', 'or', 'because', 'as', 'until', 'while', 'of', 'at', 'by', 'for', 'with', 'about', 'against', 'between', 'into', 'through', 'during', 'before', 'after', 'above', 'below', 'to', 'from', 'up', 'down', 'in', 'out', 'on', 'off', 'over', 'under', 'again', 'further', 'then', 'once', 'here', 'there', 'when', 'where', 'why', 'how', 'all', 'any', 'both', 'each', 'few', 'more', 'most', 'other', 'some', 'such', 'no', 'nor', 'not', 'only', 'own', 'same', 'so', 'than', 'too', 'very', 's', 't', 'can', 'will', 'just', 'don', \"don't\", 'should', \"should've\", 'now', 'd', 'll', 'm', 'o', 're', 've', 'y', 'ain', 'aren', \"aren't\", 'couldn', \"couldn't\", 'didn', \"didn't\", 'doesn', \"doesn't\", 'hadn', \"hadn't\", 'hasn', \"hasn't\", 'haven', \"haven't\", 'isn', \"isn't\", 'ma', 'mightn', \"mightn't\", 'mustn', \"mustn't\", 'needn', \"needn't\", 'shan', \"shan't\", 'shouldn', \"shouldn't\", 'wasn', \"wasn't\", 'weren', \"weren't\", 'won', \"won't\", 'wouldn', \"wouldn't\"]\n"
     ]
    }
   ],
   "source": [
    "print(stopword_list)"
   ]
  },
  {
   "cell_type": "code",
   "execution_count": 42,
   "id": "4e1d411a",
   "metadata": {},
   "outputs": [],
   "source": [
    "def text_preprocessing(text):\n",
    "    # word tokenizing\n",
    "    tokens = nltk.word_tokenize(text)\n",
    "\n",
    "    # removing noise: numbers, stopwords, and punctuation\n",
    "    stopwords_list = stopwords.words(\"english\")\n",
    "    tokens = [token for token in tokens if not token.isdigit() and \\\n",
    "                            not token in string.punctuation and \\\n",
    "                                token not in stopwords_list]\n",
    "    \n",
    "    #Lemmatizating the tokens using wordnet lemmatizer\n",
    "    n = nltk.WordNetLemmatizer()\n",
    "    tokens = [n.lemmatize(token) for token in tokens]\n",
    "\n",
    "    # join tokens and form string\n",
    "    preprocessed_text = \" \".join(tokens)\n",
    "\n",
    "    return preprocessed_text"
   ]
  },
  {
   "cell_type": "code",
   "execution_count": 43,
   "id": "1a3b9a09",
   "metadata": {},
   "outputs": [],
   "source": [
    "df['email'] =df['email'].apply(lower_case)"
   ]
  },
  {
   "cell_type": "code",
   "execution_count": 44,
   "id": "bfeb1cbf",
   "metadata": {},
   "outputs": [],
   "source": [
    "df['email'] =df['email'].apply(remove_square_brackets)"
   ]
  },
  {
   "cell_type": "code",
   "execution_count": 45,
   "id": "28616ba9",
   "metadata": {},
   "outputs": [],
   "source": [
    "df['email'] =df['email'].apply(remove_special_characters)"
   ]
  },
  {
   "cell_type": "code",
   "execution_count": 46,
   "id": "a28e5380",
   "metadata": {},
   "outputs": [],
   "source": [
    "df['email'] =df['email'].apply(remove_whitespace)"
   ]
  },
  {
   "cell_type": "code",
   "execution_count": 47,
   "id": "c61778cf",
   "metadata": {},
   "outputs": [],
   "source": [
    "df['email'] =df['email'].apply(text_preprocessing)"
   ]
  },
  {
   "cell_type": "code",
   "execution_count": 48,
   "id": "c3086d14",
   "metadata": {},
   "outputs": [
    {
     "data": {
      "text/html": [
       "<div>\n",
       "<style scoped>\n",
       "    .dataframe tbody tr th:only-of-type {\n",
       "        vertical-align: middle;\n",
       "    }\n",
       "\n",
       "    .dataframe tbody tr th {\n",
       "        vertical-align: top;\n",
       "    }\n",
       "\n",
       "    .dataframe thead th {\n",
       "        text-align: right;\n",
       "    }\n",
       "</style>\n",
       "<table border=\"1\" class=\"dataframe\">\n",
       "  <thead>\n",
       "    <tr style=\"text-align: right;\">\n",
       "      <th></th>\n",
       "      <th>label</th>\n",
       "      <th>email</th>\n",
       "      <th>length</th>\n",
       "      <th>clean_length</th>\n",
       "    </tr>\n",
       "  </thead>\n",
       "  <tbody>\n",
       "    <tr>\n",
       "      <th>1</th>\n",
       "      <td>0</td>\n",
       "      <td>hi ive updated gulu check mirror seems little ...</td>\n",
       "      <td>728</td>\n",
       "      <td>510</td>\n",
       "    </tr>\n",
       "    <tr>\n",
       "      <th>9</th>\n",
       "      <td>0</td>\n",
       "      <td>hi use r find confidenceinterval sensitivity s...</td>\n",
       "      <td>990</td>\n",
       "      <td>643</td>\n",
       "    </tr>\n",
       "    <tr>\n",
       "      <th>19</th>\n",
       "      <td>0</td>\n",
       "      <td>hm sound like homework problem maybe start fig...</td>\n",
       "      <td>1162</td>\n",
       "      <td>725</td>\n",
       "    </tr>\n",
       "    <tr>\n",
       "      <th>20</th>\n",
       "      <td>0</td>\n",
       "      <td>gruesse vharishankar schrieb problem hp compaq...</td>\n",
       "      <td>778</td>\n",
       "      <td>508</td>\n",
       "    </tr>\n",
       "    <tr>\n",
       "      <th>28</th>\n",
       "      <td>0</td>\n",
       "      <td>daer rhelpers anyone help following get mcmcsa...</td>\n",
       "      <td>2089</td>\n",
       "      <td>1116</td>\n",
       "    </tr>\n",
       "  </tbody>\n",
       "</table>\n",
       "</div>"
      ],
      "text/plain": [
       "    label                                              email  length  \\\n",
       "1       0  hi ive updated gulu check mirror seems little ...     728   \n",
       "9       0  hi use r find confidenceinterval sensitivity s...     990   \n",
       "19      0  hm sound like homework problem maybe start fig...    1162   \n",
       "20      0  gruesse vharishankar schrieb problem hp compaq...     778   \n",
       "28      0  daer rhelpers anyone help following get mcmcsa...    2089   \n",
       "\n",
       "    clean_length  \n",
       "1            510  \n",
       "9            643  \n",
       "19           725  \n",
       "20           508  \n",
       "28          1116  "
      ]
     },
     "execution_count": 48,
     "metadata": {},
     "output_type": "execute_result"
    }
   ],
   "source": [
    "# New column (clean_length) after puncuations,stopwords removal\n",
    "df['clean_length'] = df.email.str.len()\n",
    "df.head()"
   ]
  },
  {
   "cell_type": "code",
   "execution_count": 49,
   "id": "cc668074",
   "metadata": {},
   "outputs": [
    {
     "data": {
      "text/plain": [
       "'hi ive updated gulu check mirror seems little typo debianreadme file example httpgulususherbrookecadebianreadme ftpftpfrdebianorgdebianreadme testing lenny access release diststesting current tested development snapshot named etch package tested unstable passed automated test propogate release etch replace lenny like readmehtml yan morin consultant en logiciel libre yanmorinsavoirfairelinuxcom unsubscribe email debianmirrorsrequestlistsdebianorg subject unsubscribe trouble contact listmasterlistsdebianorg'"
      ]
     },
     "execution_count": 49,
     "metadata": {},
     "output_type": "execute_result"
    }
   ],
   "source": [
    "df.email[1]"
   ]
  },
  {
   "cell_type": "code",
   "execution_count": 50,
   "id": "4254505d",
   "metadata": {},
   "outputs": [],
   "source": [
    "# wordcloud for representing text data in which the size of each word indicates its frequency or importance\n",
    "from wordcloud import WordCloud\n",
    "wc =WordCloud(width = 500,height=500,min_font_size =10,background_color='white')"
   ]
  },
  {
   "cell_type": "code",
   "execution_count": 51,
   "id": "94b4a0af",
   "metadata": {},
   "outputs": [],
   "source": [
    "#wordcloud for spam label\n",
    "spam_wc = wc.generate(df[df['label']==1]['email'].str.cat(sep=\" \"))"
   ]
  },
  {
   "cell_type": "code",
   "execution_count": 52,
   "id": "032e7365",
   "metadata": {},
   "outputs": [
    {
     "data": {
      "text/plain": [
       "<matplotlib.image.AxesImage at 0x16432d1e0a0>"
      ]
     },
     "execution_count": 52,
     "metadata": {},
     "output_type": "execute_result"
    },
    {
     "data": {
      "image/png": "[encoded data removed]",
      "text/plain": [
       "<Figure size 1080x432 with 1 Axes>"
      ]
     },
     "metadata": {
      "needs_background": "light"
     },
     "output_type": "display_data"
    }
   ],
   "source": [
    "plt.figure(figsize =(15,6))\n",
    "plt.imshow(spam_wc)"
   ]
  },
  {
   "cell_type": "code",
   "execution_count": 53,
   "id": "6df19b3b",
   "metadata": {},
   "outputs": [],
   "source": [
    "#wordcloud for ham label\n",
    "ham_wc = wc.generate(df[df['label']==0]['email'].str.cat(sep=\" \"))"
   ]
  },
  {
   "cell_type": "code",
   "execution_count": 54,
   "id": "a9a9bd8a",
   "metadata": {},
   "outputs": [
    {
     "data": {
      "text/plain": [
       "<matplotlib.image.AxesImage at 0x16432bc75e0>"
      ]
     },
     "execution_count": 54,
     "metadata": {},
     "output_type": "execute_result"
    },
    {
     "data": {
      "image/png": "[encoded data removed]",
      "text/plain": [
       "<Figure size 1080x432 with 1 Axes>"
      ]
     },
     "metadata": {
      "needs_background": "light"
     },
     "output_type": "display_data"
    }
   ],
   "source": [
    "plt.figure(figsize=(15,6))\n",
    "plt.imshow(ham_wc)"
   ]
  },
  {
   "cell_type": "code",
   "execution_count": 55,
   "id": "d2867b1c",
   "metadata": {},
   "outputs": [],
   "source": [
    "spam_corpus = []\n",
    "for email in df[df['label']==1]['email'].tolist():\n",
    "    for word in email.split():\n",
    "        spam_corpus.append(word)"
   ]
  },
  {
   "cell_type": "code",
   "execution_count": 56,
   "id": "de576705",
   "metadata": {},
   "outputs": [
    {
     "data": {
      "text/plain": [
       "4969257"
      ]
     },
     "execution_count": 56,
     "metadata": {},
     "output_type": "execute_result"
    }
   ],
   "source": [
    "len(spam_corpus)"
   ]
  },
  {
   "cell_type": "code",
   "execution_count": 57,
   "id": "be33ff45",
   "metadata": {},
   "outputs": [
    {
     "name": "stderr",
     "output_type": "stream",
     "text": [
      "C:\\Users\\pragy\\Anaconda3\\lib\\site-packages\\seaborn\\_decorators.py:36: FutureWarning: Pass the following variables as keyword args: x, y. From version 0.12, the only valid positional argument will be `data`, and passing other arguments without an explicit keyword will result in an error or misinterpretation.\n",
      "  warnings.warn(\n"
     ]
    },
    {
     "data": {
      "text/plain": [
       "(array([ 0,  1,  2,  3,  4,  5,  6,  7,  8,  9, 10, 11, 12, 13, 14, 15, 16,\n",
       "        17, 18, 19, 20, 21, 22, 23, 24, 25, 26, 27, 28, 29]),\n",
       " [Text(0, 0, 'x'),\n",
       "  Text(1, 0, 'contenttype'),\n",
       "  Text(2, 0, 'contenttransferencoding'),\n",
       "  Text(3, 0, 'price'),\n",
       "  Text(4, 0, 'quotedprintable'),\n",
       "  Text(5, 0, 'texthtml'),\n",
       "  Text(6, 0, 'textplain'),\n",
       "  Text(7, 0, 'one'),\n",
       "  Text(8, 0, 'product'),\n",
       "  Text(9, 0, 'retail'),\n",
       "  Text(10, 0, 'said'),\n",
       "  Text(11, 0, 'anatrim'),\n",
       "  Text(12, 0, 'u'),\n",
       "  Text(13, 0, 'day'),\n",
       "  Text(14, 0, 'charsetiso'),\n",
       "  Text(15, 0, 'see'),\n",
       "  Text(16, 0, 'bit'),\n",
       "  Text(17, 0, 'pill'),\n",
       "  Text(18, 0, 'may'),\n",
       "  Text(19, 0, 'per'),\n",
       "  Text(20, 0, 'company'),\n",
       "  Text(21, 0, 'adobe'),\n",
       "  Text(22, 0, 'charsetwindows'),\n",
       "  Text(23, 0, 'get'),\n",
       "  Text(24, 0, 'customer'),\n",
       "  Text(25, 0, 'new'),\n",
       "  Text(26, 0, 'know'),\n",
       "  Text(27, 0, 'time'),\n",
       "  Text(28, 0, 'people'),\n",
       "  Text(29, 0, 'like')])"
      ]
     },
     "execution_count": 57,
     "metadata": {},
     "output_type": "execute_result"
    },
    {
     "data": {
      "image/png": "[encoded data removed]",
      "text/plain": [
       "<Figure size 432x288 with 1 Axes>"
      ]
     },
     "metadata": {
      "needs_background": "light"
     },
     "output_type": "display_data"
    }
   ],
   "source": [
    "from collections import Counter\n",
    "sns.barplot(pd.DataFrame(Counter(spam_corpus).most_common(30))[0],pd.DataFrame(Counter(spam_corpus).most_common(30))[1])\n",
    "plt.xticks(rotation='vertical')"
   ]
  },
  {
   "cell_type": "code",
   "execution_count": 58,
   "id": "4d5e4e07",
   "metadata": {},
   "outputs": [],
   "source": [
    "ham_corpus = []\n",
    "for email in df[df['label']==0]['email'].tolist():\n",
    "    for word in email.split():\n",
    "        ham_corpus.append(word)"
   ]
  },
  {
   "cell_type": "code",
   "execution_count": 59,
   "id": "f179b8c0",
   "metadata": {},
   "outputs": [
    {
     "data": {
      "text/plain": [
       "5350202"
      ]
     },
     "execution_count": 59,
     "metadata": {},
     "output_type": "execute_result"
    }
   ],
   "source": [
    "len(ham_corpus)"
   ]
  },
  {
   "cell_type": "code",
   "execution_count": 60,
   "id": "4d98adb2",
   "metadata": {},
   "outputs": [
    {
     "name": "stderr",
     "output_type": "stream",
     "text": [
      "C:\\Users\\pragy\\Anaconda3\\lib\\site-packages\\seaborn\\_decorators.py:36: FutureWarning: Pass the following variables as keyword args: x, y. From version 0.12, the only valid positional argument will be `data`, and passing other arguments without an explicit keyword will result in an error or misinterpretation.\n",
      "  warnings.warn(\n"
     ]
    },
    {
     "data": {
      "text/plain": [
       "(array([ 0,  1,  2,  3,  4,  5,  6,  7,  8,  9, 10, 11, 12, 13, 14, 15, 16,\n",
       "        17, 18, 19, 20, 21, 22, 23, 24, 25, 26, 27, 28, 29]),\n",
       " [Text(0, 0, 'email'),\n",
       "  Text(1, 0, 'list'),\n",
       "  Text(2, 0, 'new'),\n",
       "  Text(3, 0, 'please'),\n",
       "  Text(4, 0, 'code'),\n",
       "  Text(5, 0, 'may'),\n",
       "  Text(6, 0, 'c'),\n",
       "  Text(7, 0, 'r'),\n",
       "  Text(8, 0, 'u'),\n",
       "  Text(9, 0, 'one'),\n",
       "  Text(10, 0, 'use'),\n",
       "  Text(11, 0, 'news'),\n",
       "  Text(12, 0, 'mailing'),\n",
       "  Text(13, 0, 'would'),\n",
       "  Text(14, 0, 'file'),\n",
       "  Text(15, 0, 'read'),\n",
       "  Text(16, 0, 'wrote'),\n",
       "  Text(17, 0, 'return'),\n",
       "  Text(18, 0, 'story'),\n",
       "  Text(19, 0, 'time'),\n",
       "  Text(20, 0, 'get'),\n",
       "  Text(21, 0, 'message'),\n",
       "  Text(22, 0, 'work'),\n",
       "  Text(23, 0, 'like'),\n",
       "  Text(24, 0, 'unsubscribe'),\n",
       "  Text(25, 0, 'contenttype'),\n",
       "  Text(26, 0, 'provide'),\n",
       "  Text(27, 0, 'day'),\n",
       "  Text(28, 0, 'make'),\n",
       "  Text(29, 0, 'data')])"
      ]
     },
     "execution_count": 60,
     "metadata": {},
     "output_type": "execute_result"
    },
    {
     "data": {
      "image/png": "[encoded data removed]",
      "text/plain": [
       "<Figure size 432x288 with 1 Axes>"
      ]
     },
     "metadata": {
      "needs_background": "light"
     },
     "output_type": "display_data"
    }
   ],
   "source": [
    "from collections import Counter\n",
    "sns.barplot(pd.DataFrame(Counter(ham_corpus).most_common(30))[0],pd.DataFrame(Counter(ham_corpus).most_common(30))[1])\n",
    "plt.xticks(rotation='vertical')"
   ]
  },
  {
   "cell_type": "code",
   "execution_count": 61,
   "id": "0cf6d603",
   "metadata": {},
   "outputs": [],
   "source": [
    "X = df['email']\n",
    "y = df['label']"
   ]
  },
  {
   "cell_type": "code",
   "execution_count": 62,
   "id": "05573138",
   "metadata": {},
   "outputs": [],
   "source": [
    "# splitting the dataset into training and testing sets with test size = 0.2\n",
    "from sklearn.model_selection import train_test_split\n",
    "X_train,X_test,y_train,y_test = train_test_split(X,y,test_size=0.2,random_state=2)"
   ]
  },
  {
   "cell_type": "code",
   "execution_count": 63,
   "id": "77cbf9e1",
   "metadata": {},
   "outputs": [
    {
     "data": {
      "text/plain": [
       "32486    0\n",
       "65646    0\n",
       "10436    1\n",
       "9959     0\n",
       "23667    1\n",
       "Name: label, dtype: int64"
      ]
     },
     "execution_count": 63,
     "metadata": {},
     "output_type": "execute_result"
    }
   ],
   "source": [
    "y_train.head()"
   ]
  },
  {
   "cell_type": "code",
   "execution_count": 64,
   "id": "ab139b49",
   "metadata": {},
   "outputs": [
    {
     "data": {
      "text/plain": [
       "2228     0\n",
       "2639     1\n",
       "4420     0\n",
       "20095    0\n",
       "50935    0\n",
       "Name: label, dtype: int64"
      ]
     },
     "execution_count": 64,
     "metadata": {},
     "output_type": "execute_result"
    }
   ],
   "source": [
    "y_test.head()"
   ]
  },
  {
   "cell_type": "code",
   "execution_count": 65,
   "id": "660caa65",
   "metadata": {},
   "outputs": [
    {
     "data": {
      "text/plain": [
       "32486    started didnt read rest many post tried variet...\n",
       "65646    hakim cassimally skribis releasing language wi...\n",
       "10436    contenttype multipartalternative boundaryms m ...\n",
       "9959     author metze date mon apr new revision websvn ...\n",
       "23667    contenttype multipartalternative boundaryms m ...\n",
       "Name: email, dtype: object"
      ]
     },
     "execution_count": 65,
     "metadata": {},
     "output_type": "execute_result"
    }
   ],
   "source": [
    "X_train.head()"
   ]
  },
  {
   "cell_type": "code",
   "execution_count": 66,
   "id": "b671d87d",
   "metadata": {},
   "outputs": [
    {
     "name": "stdout",
     "output_type": "stream",
     "text": [
      "(38794,)\n",
      "(9699,)\n"
     ]
    }
   ],
   "source": [
    "print(X_train.shape)\n",
    "print(X_test.shape)"
   ]
  },
  {
   "cell_type": "code",
   "execution_count": 67,
   "id": "56fa47b0",
   "metadata": {},
   "outputs": [],
   "source": [
    "from sklearn.feature_extraction.text import CountVectorizer,TfidfVectorizer\n",
    "tfidf = TfidfVectorizer()"
   ]
  },
  {
   "cell_type": "code",
   "execution_count": 68,
   "id": "1dddc85b",
   "metadata": {},
   "outputs": [
    {
     "data": {
      "text/plain": [
       "TfidfVectorizer()"
      ]
     },
     "execution_count": 68,
     "metadata": {},
     "output_type": "execute_result"
    }
   ],
   "source": [
    "#fit the training emails into tfidf\n",
    "tfidf.fit(X_train)"
   ]
  },
  {
   "cell_type": "code",
   "execution_count": 69,
   "id": "e316de34",
   "metadata": {},
   "outputs": [],
   "source": [
    "#transform the fitted data with tfidf transform\n",
    "X_train_data = tfidf.transform(X_train)"
   ]
  },
  {
   "cell_type": "code",
   "execution_count": 70,
   "id": "0e741035",
   "metadata": {},
   "outputs": [
    {
     "data": {
      "text/plain": [
       "(38794, 925076)"
      ]
     },
     "execution_count": 70,
     "metadata": {},
     "output_type": "execute_result"
    }
   ],
   "source": [
    "X_train_data.shape"
   ]
  },
  {
   "cell_type": "code",
   "execution_count": 71,
   "id": "d43eb266",
   "metadata": {},
   "outputs": [
    {
     "data": {
      "text/plain": [
       "<38794x925076 sparse matrix of type '<class 'numpy.float64'>'\n",
       "\twith 5119493 stored elements in Compressed Sparse Row format>"
      ]
     },
     "execution_count": 71,
     "metadata": {},
     "output_type": "execute_result"
    }
   ],
   "source": [
    "X_train_data"
   ]
  },
  {
   "cell_type": "code",
   "execution_count": 72,
   "id": "514cd74e",
   "metadata": {},
   "outputs": [],
   "source": [
    "#transform the testing data with tfidf\n",
    "X_test_data = tfidf.transform(X_test)"
   ]
  },
  {
   "cell_type": "code",
   "execution_count": 73,
   "id": "2eaa9b35",
   "metadata": {},
   "outputs": [
    {
     "data": {
      "text/plain": [
       "<9699x925076 sparse matrix of type '<class 'numpy.float64'>'\n",
       "\twith 1074858 stored elements in Compressed Sparse Row format>"
      ]
     },
     "execution_count": 73,
     "metadata": {},
     "output_type": "execute_result"
    }
   ],
   "source": [
    "X_test_data"
   ]
  },
  {
   "cell_type": "code",
   "execution_count": 74,
   "id": "2ddffe81",
   "metadata": {},
   "outputs": [],
   "source": [
    "from sklearn.naive_bayes import MultinomialNB\n",
    "from sklearn.metrics import accuracy_score,confusion_matrix,precision_score,classification_report"
   ]
  },
  {
   "cell_type": "code",
   "execution_count": 75,
   "id": "2584982e",
   "metadata": {},
   "outputs": [],
   "source": [
    "mnb = MultinomialNB()"
   ]
  },
  {
   "cell_type": "code",
   "execution_count": 76,
   "id": "3b3a117a",
   "metadata": {},
   "outputs": [
    {
     "name": "stdout",
     "output_type": "stream",
     "text": [
      "0.9683472522940509\n",
      "[[4792   24]\n",
      " [ 283 4600]]\n",
      "0.9948096885813149\n"
     ]
    }
   ],
   "source": [
    "#multinomial naive bayes model fitting\n",
    "mnb.fit(X_train_data,y_train)\n",
    "y_pred =mnb.predict(X_test_data)\n",
    "print(accuracy_score(y_test,y_pred))\n",
    "print(confusion_matrix(y_test,y_pred))\n",
    "print(precision_score(y_test,y_pred))"
   ]
  },
  {
   "cell_type": "code",
   "execution_count": 77,
   "id": "2ab455cb",
   "metadata": {},
   "outputs": [
    {
     "name": "stdout",
     "output_type": "stream",
     "text": [
      "              precision    recall  f1-score   support\n",
      "\n",
      "           0       0.94      1.00      0.97      4816\n",
      "           1       0.99      0.94      0.97      4883\n",
      "\n",
      "    accuracy                           0.97      9699\n",
      "   macro avg       0.97      0.97      0.97      9699\n",
      "weighted avg       0.97      0.97      0.97      9699\n",
      "\n"
     ]
    }
   ],
   "source": [
    "#classification report for multinomial naive bayes\n",
    "print(classification_report(y_test, y_pred))"
   ]
  },
  {
   "cell_type": "code",
   "execution_count": 78,
   "id": "2e071664",
   "metadata": {},
   "outputs": [],
   "source": [
    "from sklearn.svm import SVC\n",
    "from sklearn.ensemble import RandomForestClassifier"
   ]
  },
  {
   "cell_type": "code",
   "execution_count": 79,
   "id": "75993090",
   "metadata": {},
   "outputs": [],
   "source": [
    "svc = SVC(kernel='rbf', gamma=1.0)\n",
    "rfc = RandomForestClassifier(n_estimators=50, random_state=2)"
   ]
  },
  {
   "cell_type": "code",
   "execution_count": 81,
   "id": "d5261902",
   "metadata": {},
   "outputs": [
    {
     "name": "stdout",
     "output_type": "stream",
     "text": [
      "0.9946386225384061\n",
      "[[4774   42]\n",
      " [  10 4873]]\n",
      "0.9914547304170905\n"
     ]
    }
   ],
   "source": [
    "#model fitting of support vector machine\n",
    "svc.fit(X_train_data,y_train)\n",
    "y_pred_svc =svc.predict(X_test_data)\n",
    "print(accuracy_score(y_test,y_pred_svc))\n",
    "print(confusion_matrix(y_test,y_pred_svc))\n",
    "print(precision_score(y_test,y_pred_svc))"
   ]
  },
  {
   "cell_type": "code",
   "execution_count": 82,
   "id": "0a329316",
   "metadata": {},
   "outputs": [
    {
     "name": "stdout",
     "output_type": "stream",
     "text": [
      "              precision    recall  f1-score   support\n",
      "\n",
      "           0       1.00      0.99      0.99      4816\n",
      "           1       0.99      1.00      0.99      4883\n",
      "\n",
      "    accuracy                           0.99      9699\n",
      "   macro avg       0.99      0.99      0.99      9699\n",
      "weighted avg       0.99      0.99      0.99      9699\n",
      "\n"
     ]
    }
   ],
   "source": [
    "#classification report for support vector machine\n",
    "print(classification_report(y_test, y_pred_svc))"
   ]
  },
  {
   "cell_type": "code",
   "execution_count": 83,
   "id": "ccb165d9",
   "metadata": {},
   "outputs": [
    {
     "name": "stdout",
     "output_type": "stream",
     "text": [
      "0.989586555314981\n",
      "[[4775   41]\n",
      " [  60 4823]]\n",
      "0.9915707236842105\n"
     ]
    }
   ],
   "source": [
    "#model fitting of random forest \n",
    "rfc.fit(X_train_data,y_train)\n",
    "y_pred_rfc =rfc.predict(X_test_data)\n",
    "print(accuracy_score(y_test,y_pred_rfc))\n",
    "print(confusion_matrix(y_test,y_pred_rfc))\n",
    "print(precision_score(y_test,y_pred_rfc))"
   ]
  },
  {
   "cell_type": "code",
   "execution_count": 84,
   "id": "8ae0d17f",
   "metadata": {},
   "outputs": [
    {
     "name": "stdout",
     "output_type": "stream",
     "text": [
      "              precision    recall  f1-score   support\n",
      "\n",
      "           0       0.99      0.99      0.99      4816\n",
      "           1       0.99      0.99      0.99      4883\n",
      "\n",
      "    accuracy                           0.99      9699\n",
      "   macro avg       0.99      0.99      0.99      9699\n",
      "weighted avg       0.99      0.99      0.99      9699\n",
      "\n"
     ]
    }
   ],
   "source": [
    "print(classification_report(y_test, y_pred_rfc))"
   ]
  },
  {
   "cell_type": "code",
   "execution_count": 85,
   "id": "554cffae",
   "metadata": {},
   "outputs": [
    {
     "name": "stdout",
     "output_type": "stream",
     "text": [
      "Train acc:  0.9768263133474249\n",
      "Test acc:  0.9683472522940509\n"
     ]
    }
   ],
   "source": [
    "#training and testing accuracy of the multinomial naive bayes \n",
    "print('Train acc: ',accuracy_score(y_train, mnb.predict(X_train_data)))\n",
    "print('Test acc: ', accuracy_score(y_test, y_pred))"
   ]
  },
  {
   "cell_type": "code",
   "execution_count": 86,
   "id": "a0c40750",
   "metadata": {},
   "outputs": [
    {
     "name": "stdout",
     "output_type": "stream",
     "text": [
      "Train acc:  0.9985307006238078\n",
      "Test acc:  0.9946386225384061\n"
     ]
    }
   ],
   "source": [
    "#training and testing accuracy of the support vector machine \n",
    "print('Train acc: ',accuracy_score(y_train, svc.predict(X_train_data)))\n",
    "print('Test acc: ', accuracy_score(y_test, y_pred_svc))"
   ]
  },
  {
   "cell_type": "code",
   "execution_count": 87,
   "id": "0089edb4",
   "metadata": {},
   "outputs": [
    {
     "name": "stdout",
     "output_type": "stream",
     "text": [
      "Train acc:  0.9998195597257308\n",
      "Test acc:  0.989586555314981\n"
     ]
    }
   ],
   "source": [
    "#training and testing accuracy of the random forest\n",
    "print('Train acc: ',accuracy_score(y_train, rfc.predict(X_train_data)))\n",
    "print('Test acc: ', accuracy_score(y_test, y_pred_rfc))"
   ]
  },
  {
   "cell_type": "code",
   "execution_count": 88,
   "id": "a0e32645",
   "metadata": {},
   "outputs": [],
   "source": [
    "example=[\"Hi Thanks for working with us. Your bill for $373.75 was due on 28 Aug 2016.If youve already paid it please ignore this email and sorry for bothering you. If youve not paid it please do so as soon as possible. To view your bill visit https:in.xero.com5LQDhRwfvoQfeDtLDMqkk1JWSqC4CmJt4VVJRsGN. If you've got any questions or want to arrange alternativepayment don't hesitate to get in touch.ThanksNJW Limited\",\n",
    "         \"congratualtions you've won\",\"hello!! @ @rachita, how are you i hope you ar fine. I wanted you to come to the college gathering on 20th of december at himalayan Hotel. \",\n",
    "         \"free buy 1 get 2 freee now\"]"
   ]
  },
  {
   "cell_type": "code",
   "execution_count": 89,
   "id": "66ec6c5f",
   "metadata": {},
   "outputs": [],
   "source": [
    "example_tfidf= tfidf.transform(example)\n",
    "predictions = mnb.predict(example_tfidf)"
   ]
  },
  {
   "cell_type": "code",
   "execution_count": 90,
   "id": "66a08967",
   "metadata": {},
   "outputs": [
    {
     "data": {
      "text/plain": [
       "array([0, 0, 0, 1], dtype=int64)"
      ]
     },
     "execution_count": 90,
     "metadata": {},
     "output_type": "execute_result"
    }
   ],
   "source": [
    "predictions"
   ]
  },
  {
   "cell_type": "code",
   "execution_count": 91,
   "id": "a7968795",
   "metadata": {},
   "outputs": [],
   "source": [
    "predictions = svc.predict(example_tfidf)"
   ]
  },
  {
   "cell_type": "code",
   "execution_count": 92,
   "id": "7ea11878",
   "metadata": {},
   "outputs": [
    {
     "data": {
      "text/plain": [
       "array([1, 1, 1, 1], dtype=int64)"
      ]
     },
     "execution_count": 92,
     "metadata": {},
     "output_type": "execute_result"
    }
   ],
   "source": [
    "predictions"
   ]
  },
  {
   "cell_type": "code",
   "execution_count": 93,
   "id": "303d2077",
   "metadata": {},
   "outputs": [],
   "source": [
    "predictions = rfc.predict(example_tfidf)"
   ]
  },
  {
   "cell_type": "code",
   "execution_count": 94,
   "id": "a709ea00",
   "metadata": {},
   "outputs": [
    {
     "data": {
      "text/plain": [
       "array([0, 1, 1, 1], dtype=int64)"
      ]
     },
     "execution_count": 94,
     "metadata": {},
     "output_type": "execute_result"
    }
   ],
   "source": [
    "predictions"
   ]
  },
  {
   "cell_type": "code",
   "execution_count": 98,
   "id": "5ceed4da",
   "metadata": {},
   "outputs": [
    {
     "name": "stdout",
     "output_type": "stream",
     "text": [
      "['hi', \"Hi, Thanks for working with us. Your bill for $373.75 was due on 28 Aug 2016.If you've already paid it, please ignore this email and sorry for bothering you. If you've not paid it, please do so as soon as possible. To view your bill visit https://in.xero.com/5LQDhRwfvoQfeDtLDMqkk1JWSqC4CmJt4VVJRsGN. If you've got any questions, or want to arrange alternativepayment don't hesitate to get in touch.ThanksNJW Limited\", 'Dear User, All Hotmail customers have been upgraded to Outlook.com.Your Hotmail Account services has expired.Due to our system upgrade to outlook. In order for it to remain active follow the link Sign in Re-activate your accountto Outlook. https://account.live.comThanks,The Microsoft account team', 'Hello, We assessed the 2015 payment structure as provided for under the terms of employment and discovered that you are due for a salary raise starting August 2015.Your salaru raise documetn are enclosed below:Access the documents hereFaithfully Human Resources ', \"I hope you had a wonderful week! I'm Kate, the Community Coordinator here at Codesmith, and I'm so excited to share this week's many updates, from the announcement of a full scholarship for our prep programs, to new videos posted to our YouTube channel, and a busy schedule of weekly events. New Scholarship: $10K for 10K\", 'We live in a world where certain skills are more highly-paid than others. Copywriting is the ultimate high income skill. By leveraging the power of words, you can magically increase sales for your affiliate campaigns or your clients.  In fact, my friend Kenneth Yu regularly commands USD10,000 - USD25,000 fees for a 2 week project, working only till noon most days. He’s opened up a free 5-day training on his Holy Grail Copywriting method to accomplish exactly that. And he’s inviting YOU to be part of it.', 'hello!! @ @rachita, how are you i hope you ar fine. I wanted you to come to the college gathering on 20th of december at himalayan Hotel. ', \"As one last reminder: On February 1, 2022, we'll introduce a limit of three collaborative FigJam files in the team space for teams on the Starter plan. Teams with more than three collaborative FigJam files will retain their files, but cannot create any more.In your drafts, you can continue to create unlimited FigJam files for personal use. Rest assured that no existing FigJam files or co-editors will be deleted, moved, or impacted.If you're working on a team and need to collaborate on more than three files, upgrading to our Professional plan may be for you\", \"Hi there,Last Wednesday, a security researcher working under our bug bounty program found a way that they could access one account's file storage from another by using the Dirty Pipe Linux kernel vulnerability. We put a mitigation system in place to stop that from happening, and then on Thursday we were able to patch the underlying issue. On Friday, another researcher found a similar issue, which the mitigation system we'd put in place originally made relatively harmless -- we were able to patch that one within minutes.It's important to note that none of the credit card numbers or PayPal information used to pay for PythonAnywhere accounts was at risk from these issues; that data is stored on completely different servers, and is not accessible even to us.From our initial analysis, we have no indication that anyone else was able to use these vulnerabilities. It seems to us that this is a case where our bug bounty program worked just as it should, with white hat security researchers telling us about problems before black hat hackers were able to exploit them. However, we're conducting further in-depth investigations to see if there is any evidence of other people using them, and we will let you know if we discover anything.In the meantime, as a precaution, we recommend that you rotate any private keys, API tokens, or passwords that you store in your PythonAnywhere account.All the best,The PythonAnywhere team\", \"A million packages waiting for you With CodeSandbox, you can create real projects—from static sites and components, to full-stack web apps. In fact, you can add any of the 1M+ npm packages to your project.From the dashboard, select a recent project and it'll open in the editor. Click 'Add Dependency', type the name of the module you want to use, for example 'underscore', and select the relevant result. It'll automatically be added to your project and the package.json file gets updated too.Add a Dependency Pro tip: If you click on the name of a dependency in the editor it opens a page listing popular sandboxes that use it. It's handy for learning how to implement the package in your own code.Happy coding!The CodeSandbox Team\", 'Here’s what we’ve worked on since our official launch day. We...Introduced better caching and improved site monitoring.Replaced our cloud management software with a better tool.Fixed lots of small bugs with the site.Today, Font Awesome 6 is in good shape, our site is stable, and we think you’ll agree that despite the rocky launch day, this is our best release to date!If you have any trouble finding what you’re looking for or if you uncover any bugs along the way, please let us know, and we’ll get on it right away.Give Font Awesome 6 another shot, and check out our new site!', 'Hi Rachita Basnet! We’re thrilled to hear you’ve found our free resume builder, and we know it will help you find a job within your target industry.We built this resume builder with the best of our experience in resume writing to enable you to get an instant custom resume that matches your skills, experiences, qualifications and education.', \"May 19, 2007 05:15 AM EDT Top Stories Weather U.S. World Business Sports Health Technology Entertainment Features TOP STORIES CNN.com Blasts hit Green Zone as Blair makes farewell visit Three explosions rocked Baghdad's heavily fortified Green Zone hours onSaturday after British Prime Minister Tony Blair arrived for meetings withIraqi government leaders, officials said. FULL STORY WATCH VIDEO Afghan bomb kills 3 German troops A suicide bomber killed three German soldiers and four civilians on Saturdayin the northern Afghan province of Kunduz, Afghan security officials said. FULL STORY WATCH VIDEO Top Stories Weather U.S. World Business Sports Health Technology Entertainment Features WEATHER CNN.com/WEATHER Your personalized weather is temporarily out of service. In the meantime, go to for your local weather forecast. Personalized weather will return soon. Top Stories Weather U.S. World Business Sports Health Technology Entertainment Features U.S. CNN.com/US Shipwreck yields historic riches -- $500M worth Deep-sea explorers said Friday they have mined what could be the richestshipwreck treasure in history, bringing home 17 tons of colonial-era silverand gold coins from an undisclosed site in the Atlantic Ocean. FULL STORY Flights halted at bombing range linked to N.J. wildfires Military officials announced Friday they were suspending training at an aerialbombing range where a flare dropped from a military jet may have caused a27-square mile wildfire. FULL STORY WATCH VIDEO Navy lawyer convicted of leaking Guantanamo names A military jury recommended that a Navy lawyer spend six months in prison andbe dismissed from the service for sending a human rights attorney the names of550 Guantanamo Bay detainees in an unmarked Valentine's Day card. FULL STORY Canadian military aerobatic jet crashes, killing pilot A Canadian Forces Snowbirds jet crashed Friday during rehearsal for weekendperformances at Malmstrom Air Force Base, killing the pilot, the FederalAviation Administration said. FULL STORY Top Stories Weather U.S. World Business Sports Health Technology Entertainment Features WORLD CNN.com/WORLD Israeli strikes in Gaza could grow harsher, envoy warns Israel's response to rockets launched from Gaza into its cities has been measured so far but could grow harsher if the attacks continue, Israel'sambassador to the United States said Friday. FULL STORY WATCH VIDEO Four arrested in Iraq 'honor killing' Authorities in northern Iraq have arrested four people in connection with the honor killing last month of a Kurdish teen -- a startling, morbid pummelingcaught on a mobile phone video camera and broadcast around the world. FULL STORY WATCH VIDEO 13 die in mosque blast, violence A bomb ripped through a historic mosque Friday in south India, and 13 peowere killed -- 11 in the blast and two in subsequent clashes between angryMuslim worshippers and security forces, police said. FULL STORY China anger over Darfur criticism China on Friday rejected growing criticism it is not wielding its influencewith Sudan to stop bloodshed in the Darfur region and said attempts to use theconflict to politicize Beijing's Olympic Games will fail. FULL STORY Top Stories Weather U.S. World Business Sports Health Technology Entertainment Features BUSINESS CNNmoney.com Take your home outside Pam and Mark Elmore weren't in the market for a home last summer. But when theBend, Ore. couple happened to stop by a newly built house with a1,000-square-foot patio, a fully equipped outdoor kitchen - fridge and rangeincluded -and a fire pit, they immediately realized they had to have it. FULL STORY Dow hits record, S&P close to one Stocks rallied Friday, with the Dow Jones industrial average closing atanother record and the broader S&P 500 ending just shy of an all-time high, asinvestors hailed merger news from Microsoft and talk of a deal involvingGeneral Electric. FULL STORY Top Stories Weather U.S. World Business Sports Health Technology Entertainment Features SPORTS SI.com Ian Thomsen: Spurs pull no punches in victory It was as ruthlessly artistic as the finest victories of Muhammad Ali, SugarRay Robinson and Joe Louis. The San Antonio Spurs physically hemmed in theiryounger, more athletically dangerous opponents, frustrated them with muscleand guile and then with meticulous accuracy knocked out the Phoenix Suns wi 114-106 victory in Game 6 of their Western conference semifinal Friday. FULL STORY Jon Heyman: Storylines to watch for the Subway Series Also in this column:  Ã¢Â€Â¢ New Braves owners won't spend  Ã¢Â€Â¢ Ozzie awaitsA-Rod in Chicago  Ã¢Â€Â¢ An omission from my over-40 list\\tÃ¢Â€Â¢ More news andnotes FULL STORY Top Stories Weather U.S. World Business Sports Health Technology Entertainment Features HEALTH CNN.com/HEALTH Still no answers in '06 lettuce E. coli outbreak Thursday after work was Terri Kaiser's favorite night: It was bowling nightwith her three sisters. FULL STORY WATCH VIDEO Lawmakers push for change in food safety oversight Spurred by deadly outbreaks of E. coli and other food-borne pathogens, a groupof U.S. lawmakers is pushing to put all food safety oversight under a singlefederal agency. FULL STORY WATCH VIDEO Top Stories Weather U.S. World Business Sports Health Technology Entertainment Features TECHNOLOGY CNN.com/TECH Inventor: Camera phone evolution has only just begun The chilling sounds of gunfire on the Virginia Tech campus; the hateful tauntsfrom Saddam Hussein's execution; the racist tirade of comedian MichaelRichards. FULL STORY Study: 25 countries block Web sites At least 25 countries around the world block Web sites for political, socialor other reasons as governments seek to assert authority over a network meantto be borderless, according to a study out Friday. FULL STORY Top Stories Weather U.S. World Business Sports Health Technology Entertainment Features ENTERTAINMENT CNN.com/SHOWBIZ If you're a female singer, you'd better be sexy She was an amazing talent, a young singer with a wonderful voice who wrotebeautiful songs. But she was no beauty, plus flat-chested and overweight toboot. FULL STORY Court: Liz Taylor can keep Van Gogh painting Actress Elizabeth Taylor can keep a Van Gogh painting that might have beenillegally seized by the Nazis because the family who once owned it waited toolong to ask for it back, a U.S. appeals court ruled on Friday. FULL STORY Cable News Network LP, LLLP. One CNN Center, Atlanta, Georgia 30303 Â© 2007 Cable News Network. A Time Warner Company. All Rights Reserved. Terms under which this service is provided to you. Read our privacy guidelines . Contact us . You have agreed to receive this email from CNN.com as a result of your CNN.com preference settings. To manage your settings click here . To unsubscribe from the American Morning Quick News , click here .\"]\n"
     ]
    }
   ],
   "source": [
    "text1 = [\n",
    "\"hi\",\n",
    "\"Hi, Thanks for working with us. Your bill for $373.75 was due on 28 Aug 2016.If you've already paid it, please ignore this email and sorry for bothering you. If you've not paid it, please do so as soon as possible. To view your bill visit https://in.xero.com/5LQDhRwfvoQfeDtLDMqkk1JWSqC4CmJt4VVJRsGN. If you've got any questions, or want to arrange alternativepayment don't hesitate to get in touch.ThanksNJW Limited\",\n",
    "\"Dear User, All Hotmail customers have been upgraded to Outlook.com.Your Hotmail Account services has expired.Due to our system upgrade to outlook. In order for it to remain active follow the link Sign in Re-activate your accountto Outlook. https://account.live.comThanks,The Microsoft account team\",\n",
    "\"Hello, We assessed the 2015 payment structure as provided for under the terms of employment and discovered that you are due for a salary raise starting August 2015.Your salaru raise documetn are enclosed below:Access the documents hereFaithfully Human Resources \",\n",
    "\"I hope you had a wonderful week! I'm Kate, the Community Coordinator here at Codesmith, and I'm so excited to share this week's many updates, from the announcement of a full scholarship for our prep programs, to new videos posted to our YouTube channel, and a busy schedule of weekly events. New Scholarship: $10K for 10K\",\n",
    "\"We live in a world where certain skills are more highly-paid than others. Copywriting is the ultimate high income skill. By leveraging the power of words, you can magically increase sales for your affiliate campaigns or your clients.  In fact, my friend Kenneth Yu regularly commands USD10,000 - USD25,000 fees for a 2 week project, working only till noon most days. He’s opened up a free 5-day training on his Holy Grail Copywriting method to accomplish exactly that. And he’s inviting YOU to be part of it.\",\n",
    "\"hello!! @ @rachita, how are you i hope you ar fine. I wanted you to come to the college gathering on 20th of december at himalayan Hotel. \",\n",
    "\"As one last reminder: On February 1, 2022, we'll introduce a limit of three collaborative FigJam files in the team space for teams on the Starter plan. Teams with more than three collaborative FigJam files will retain their files, but cannot create any more.In your drafts, you can continue to create unlimited FigJam files for personal use. Rest assured that no existing FigJam files or co-editors will be deleted, moved, or impacted.If you're working on a team and need to collaborate on more than three files, upgrading to our Professional plan may be for you\",\n",
    "\"Hi there,Last Wednesday, a security researcher working under our bug bounty program found a way that they could access one account's file storage from another by using the Dirty Pipe Linux kernel vulnerability. We put a mitigation system in place to stop that from happening, and then on Thursday we were able to patch the underlying issue. On Friday, another researcher found a similar issue, which the mitigation system we'd put in place originally made relatively harmless -- we were able to patch that one within minutes.It's important to note that none of the credit card numbers or PayPal information used to pay for PythonAnywhere accounts was at risk from these issues; that data is stored on completely different servers, and is not accessible even to us.From our initial analysis, we have no indication that anyone else was able to use these vulnerabilities. It seems to us that this is a case where our bug bounty program worked just as it should, with white hat security researchers telling us about problems before black hat hackers were able to exploit them. However, we're conducting further in-depth investigations to see if there is any evidence of other people using them, and we will let you know if we discover anything.In the meantime, as a precaution, we recommend that you rotate any private keys, API tokens, or passwords that you store in your PythonAnywhere account.All the best,The PythonAnywhere team\",\n",
    "\"A million packages waiting for you With CodeSandbox, you can create real projects—from static sites and components, to full-stack web apps. In fact, you can add any of the 1M+ npm packages to your project.From the dashboard, select a recent project and it'll open in the editor. Click 'Add Dependency', type the name of the module you want to use, for example 'underscore', and select the relevant result. It'll automatically be added to your project and the package.json file gets updated too.Add a Dependency Pro tip: If you click on the name of a dependency in the editor it opens a page listing popular sandboxes that use it. It's handy for learning how to implement the package in your own code.Happy coding!The CodeSandbox Team\",\n",
    "\"Here’s what we’ve worked on since our official launch day. We...Introduced better caching and improved site monitoring.Replaced our cloud management software with a better tool.Fixed lots of small bugs with the site.Today, Font Awesome 6 is in good shape, our site is stable, and we think you’ll agree that despite the rocky launch day, this is our best release to date!If you have any trouble finding what you’re looking for or if you uncover any bugs along the way, please let us know, and we’ll get on it right away.Give Font Awesome 6 another shot, and check out our new site!\",\n",
    "\"Hi Rachita Basnet! We’re thrilled to hear you’ve found our free resume builder, and we know it will help you find a job within your target industry.We built this resume builder with the best of our experience in resume writing to enable you to get an instant custom resume that matches your skills, experiences, qualifications and education.\",\n",
    "\"May 19, 2007 05:15 AM EDT Top Stories Weather U.S. World Business Sports Health Technology Entertainment Features TOP STORIES CNN.com Blasts hit Green Zone as Blair makes farewell visit Three explosions rocked Baghdad's heavily fortified Green Zone hours onSaturday after British Prime Minister Tony Blair arrived for meetings withIraqi government leaders, officials said. FULL STORY WATCH VIDEO Afghan bomb kills 3 German troops A suicide bomber killed three German soldiers and four civilians on Saturdayin the northern Afghan province of Kunduz, Afghan security officials said. FULL STORY WATCH VIDEO Top Stories Weather U.S. World Business Sports Health Technology Entertainment Features WEATHER CNN.com/WEATHER Your personalized weather is temporarily out of service. In the meantime, go to for your local weather forecast. Personalized weather will return soon. Top Stories Weather U.S. World Business Sports Health Technology Entertainment Features U.S. CNN.com/US Shipwreck yields historic riches -- $500M worth Deep-sea explorers said Friday they have mined what could be the richestshipwreck treasure in history, bringing home 17 tons of colonial-era silverand gold coins from an undisclosed site in the Atlantic Ocean. FULL STORY Flights halted at bombing range linked to N.J. wildfires Military officials announced Friday they were suspending training at an aerialbombing range where a flare dropped from a military jet may have caused a27-square mile wildfire. FULL STORY WATCH VIDEO Navy lawyer convicted of leaking Guantanamo names A military jury recommended that a Navy lawyer spend six months in prison andbe dismissed from the service for sending a human rights attorney the names of550 Guantanamo Bay detainees in an unmarked Valentine's Day card. FULL STORY Canadian military aerobatic jet crashes, killing pilot A Canadian Forces Snowbirds jet crashed Friday during rehearsal for weekendperformances at Malmstrom Air Force Base, killing the pilot, the FederalAviation Administration said. FULL STORY Top Stories Weather U.S. World Business Sports Health Technology Entertainment Features WORLD CNN.com/WORLD Israeli strikes in Gaza could grow harsher, envoy warns Israel's response to rockets launched from Gaza into its cities has been measured so far but could grow harsher if the attacks continue, Israel'sambassador to the United States said Friday. FULL STORY WATCH VIDEO Four arrested in Iraq 'honor killing' Authorities in northern Iraq have arrested four people in connection with the honor killing last month of a Kurdish teen -- a startling, morbid pummelingcaught on a mobile phone video camera and broadcast around the world. FULL STORY WATCH VIDEO 13 die in mosque blast, violence A bomb ripped through a historic mosque Friday in south India, and 13 peowere killed -- 11 in the blast and two in subsequent clashes between angryMuslim worshippers and security forces, police said. FULL STORY China anger over Darfur criticism China on Friday rejected growing criticism it is not wielding its influencewith Sudan to stop bloodshed in the Darfur region and said attempts to use theconflict to politicize Beijing's Olympic Games will fail. FULL STORY Top Stories Weather U.S. World Business Sports Health Technology Entertainment Features BUSINESS CNNmoney.com Take your home outside Pam and Mark Elmore weren't in the market for a home last summer. But when theBend, Ore. couple happened to stop by a newly built house with a1,000-square-foot patio, a fully equipped outdoor kitchen - fridge and rangeincluded -and a fire pit, they immediately realized they had to have it. FULL STORY Dow hits record, S&P close to one Stocks rallied Friday, with the Dow Jones industrial average closing atanother record and the broader S&P 500 ending just shy of an all-time high, asinvestors hailed merger news from Microsoft and talk of a deal involvingGeneral Electric. FULL STORY Top Stories Weather U.S. World Business Sports Health Technology Entertainment Features SPORTS SI.com Ian Thomsen: Spurs pull no punches in victory It was as ruthlessly artistic as the finest victories of Muhammad Ali, SugarRay Robinson and Joe Louis. The San Antonio Spurs physically hemmed in theiryounger, more athletically dangerous opponents, frustrated them with muscleand guile and then with meticulous accuracy knocked out the Phoenix Suns wi 114-106 victory in Game 6 of their Western conference semifinal Friday. FULL STORY Jon Heyman: Storylines to watch for the Subway Series Also in this column:  Ã¢Â€Â¢ New Braves owners won't spend  Ã¢Â€Â¢ Ozzie awaitsA-Rod in Chicago  Ã¢Â€Â¢ An omission from my over-40 list\tÃ¢Â€Â¢ More news andnotes FULL STORY Top Stories Weather U.S. World Business Sports Health Technology Entertainment Features HEALTH CNN.com/HEALTH Still no answers in '06 lettuce E. coli outbreak Thursday after work was Terri Kaiser's favorite night: It was bowling nightwith her three sisters. FULL STORY WATCH VIDEO Lawmakers push for change in food safety oversight Spurred by deadly outbreaks of E. coli and other food-borne pathogens, a groupof U.S. lawmakers is pushing to put all food safety oversight under a singlefederal agency. FULL STORY WATCH VIDEO Top Stories Weather U.S. World Business Sports Health Technology Entertainment Features TECHNOLOGY CNN.com/TECH Inventor: Camera phone evolution has only just begun The chilling sounds of gunfire on the Virginia Tech campus; the hateful tauntsfrom Saddam Hussein's execution; the racist tirade of comedian MichaelRichards. FULL STORY Study: 25 countries block Web sites At least 25 countries around the world block Web sites for political, socialor other reasons as governments seek to assert authority over a network meantto be borderless, according to a study out Friday. FULL STORY Top Stories Weather U.S. World Business Sports Health Technology Entertainment Features ENTERTAINMENT CNN.com/SHOWBIZ If you're a female singer, you'd better be sexy She was an amazing talent, a young singer with a wonderful voice who wrotebeautiful songs. But she was no beauty, plus flat-chested and overweight toboot. FULL STORY Court: Liz Taylor can keep Van Gogh painting Actress Elizabeth Taylor can keep a Van Gogh painting that might have beenillegally seized by the Nazis because the family who once owned it waited toolong to ask for it back, a U.S. appeals court ruled on Friday. FULL STORY Cable News Network LP, LLLP. One CNN Center, Atlanta, Georgia 30303 Â© 2007 Cable News Network. A Time Warner Company. All Rights Reserved. Terms under which this service is provided to you. Read our privacy guidelines . Contact us . You have agreed to receive this email from CNN.com as a result of your CNN.com preference settings. To manage your settings click here . To unsubscribe from the American Morning Quick News , click here .\"\n",
    "]\n",
    "print(text1)\n",
    "text_df1 = pd.DataFrame(text1,columns=['text'])\n",
    "# print(text_df1)"
   ]
  },
  {
   "cell_type": "code",
   "execution_count": 99,
   "id": "7a49d604",
   "metadata": {},
   "outputs": [],
   "source": [
    "#preprocessing\n",
    "text_df1['text'] =text_df1['text'].apply(lower_case)\n",
    "text_df1['text'] =text_df1['text'].apply(remove_special_characters)\n",
    "text_df1['text'] =text_df1['text'].apply(remove_square_brackets)\n",
    "text_df1['text'] =text_df1['text'].apply(text_preprocessing)"
   ]
  },
  {
   "cell_type": "code",
   "execution_count": 100,
   "id": "a78cf232",
   "metadata": {},
   "outputs": [
    {
     "data": {
      "text/plain": [
       "0                                                    hi\n",
       "1     hi thanks working u bill due aug youve already...\n",
       "2     dear user hotmail customer upgraded outlookcom...\n",
       "3     hello assessed payment structure provided term...\n",
       "4     hope wonderful week im kate community coordina...\n",
       "5     live world certain skill highlypaid others cop...\n",
       "6     hello rachita hope ar fine wanted come college...\n",
       "7     one last reminder february well introduce limi...\n",
       "8     hi therelast wednesday security researcher wor...\n",
       "9     million package waiting codesandbox create rea...\n",
       "10    here weve worked since official launch day wei...\n",
       "11    hi rachita basnet thrilled hear youve found fr...\n",
       "12    may edt top story weather u world business spo...\n",
       "Name: text, dtype: object"
      ]
     },
     "execution_count": 100,
     "metadata": {},
     "output_type": "execute_result"
    }
   ],
   "source": [
    "text_df1['text']"
   ]
  },
  {
   "cell_type": "code",
   "execution_count": 101,
   "id": "93ac3378",
   "metadata": {},
   "outputs": [],
   "source": [
    "#transform with tfidf\n",
    "text=tfidf.transform(text_df1['text'])"
   ]
  },
  {
   "cell_type": "code",
   "execution_count": 102,
   "id": "4c8badd7",
   "metadata": {},
   "outputs": [],
   "source": [
    "prediction = svc.predict(text)"
   ]
  },
  {
   "cell_type": "code",
   "execution_count": 103,
   "id": "7d8fb377",
   "metadata": {},
   "outputs": [
    {
     "data": {
      "text/plain": [
       "array([0, 1, 1, 1, 0, 1, 1, 0, 0, 0, 1, 1, 0], dtype=int64)"
      ]
     },
     "execution_count": 103,
     "metadata": {},
     "output_type": "execute_result"
    }
   ],
   "source": [
    "prediction"
   ]
  },
  {
   "cell_type": "code",
   "execution_count": 104,
   "id": "370da76a",
   "metadata": {},
   "outputs": [],
   "source": [
    "list_of_tuples = list(zip(text_df1['text'], prediction)) "
   ]
  },
  {
   "cell_type": "code",
   "execution_count": 105,
   "id": "3959ae8b",
   "metadata": {},
   "outputs": [
    {
     "data": {
      "text/html": [
       "<div>\n",
       "<style scoped>\n",
       "    .dataframe tbody tr th:only-of-type {\n",
       "        vertical-align: middle;\n",
       "    }\n",
       "\n",
       "    .dataframe tbody tr th {\n",
       "        vertical-align: top;\n",
       "    }\n",
       "\n",
       "    .dataframe thead th {\n",
       "        text-align: right;\n",
       "    }\n",
       "</style>\n",
       "<table border=\"1\" class=\"dataframe\">\n",
       "  <thead>\n",
       "    <tr style=\"text-align: right;\">\n",
       "      <th></th>\n",
       "      <th>Text</th>\n",
       "      <th>Label</th>\n",
       "    </tr>\n",
       "  </thead>\n",
       "  <tbody>\n",
       "    <tr>\n",
       "      <th>0</th>\n",
       "      <td>hi</td>\n",
       "      <td>0</td>\n",
       "    </tr>\n",
       "    <tr>\n",
       "      <th>1</th>\n",
       "      <td>hi thanks working u bill due aug youve already...</td>\n",
       "      <td>1</td>\n",
       "    </tr>\n",
       "    <tr>\n",
       "      <th>2</th>\n",
       "      <td>dear user hotmail customer upgraded outlookcom...</td>\n",
       "      <td>1</td>\n",
       "    </tr>\n",
       "    <tr>\n",
       "      <th>3</th>\n",
       "      <td>hello assessed payment structure provided term...</td>\n",
       "      <td>1</td>\n",
       "    </tr>\n",
       "    <tr>\n",
       "      <th>4</th>\n",
       "      <td>hope wonderful week im kate community coordina...</td>\n",
       "      <td>0</td>\n",
       "    </tr>\n",
       "    <tr>\n",
       "      <th>5</th>\n",
       "      <td>live world certain skill highlypaid others cop...</td>\n",
       "      <td>1</td>\n",
       "    </tr>\n",
       "    <tr>\n",
       "      <th>6</th>\n",
       "      <td>hello rachita hope ar fine wanted come college...</td>\n",
       "      <td>1</td>\n",
       "    </tr>\n",
       "    <tr>\n",
       "      <th>7</th>\n",
       "      <td>one last reminder february well introduce limi...</td>\n",
       "      <td>0</td>\n",
       "    </tr>\n",
       "    <tr>\n",
       "      <th>8</th>\n",
       "      <td>hi therelast wednesday security researcher wor...</td>\n",
       "      <td>0</td>\n",
       "    </tr>\n",
       "    <tr>\n",
       "      <th>9</th>\n",
       "      <td>million package waiting codesandbox create rea...</td>\n",
       "      <td>0</td>\n",
       "    </tr>\n",
       "    <tr>\n",
       "      <th>10</th>\n",
       "      <td>here weve worked since official launch day wei...</td>\n",
       "      <td>1</td>\n",
       "    </tr>\n",
       "    <tr>\n",
       "      <th>11</th>\n",
       "      <td>hi rachita basnet thrilled hear youve found fr...</td>\n",
       "      <td>1</td>\n",
       "    </tr>\n",
       "    <tr>\n",
       "      <th>12</th>\n",
       "      <td>may edt top story weather u world business spo...</td>\n",
       "      <td>0</td>\n",
       "    </tr>\n",
       "  </tbody>\n",
       "</table>\n",
       "</div>"
      ],
      "text/plain": [
       "                                                 Text  Label\n",
       "0                                                  hi      0\n",
       "1   hi thanks working u bill due aug youve already...      1\n",
       "2   dear user hotmail customer upgraded outlookcom...      1\n",
       "3   hello assessed payment structure provided term...      1\n",
       "4   hope wonderful week im kate community coordina...      0\n",
       "5   live world certain skill highlypaid others cop...      1\n",
       "6   hello rachita hope ar fine wanted come college...      1\n",
       "7   one last reminder february well introduce limi...      0\n",
       "8   hi therelast wednesday security researcher wor...      0\n",
       "9   million package waiting codesandbox create rea...      0\n",
       "10  here weve worked since official launch day wei...      1\n",
       "11  hi rachita basnet thrilled hear youve found fr...      1\n",
       "12  may edt top story weather u world business spo...      0"
      ]
     },
     "execution_count": 105,
     "metadata": {},
     "output_type": "execute_result"
    }
   ],
   "source": [
    "pd.DataFrame(list_of_tuples, columns = ['Text', 'Label'])"
   ]
  },
  {
   "cell_type": "code",
   "execution_count": 106,
   "id": "ef14e902",
   "metadata": {},
   "outputs": [],
   "source": [
    "import pickle\n",
    "pickle.dump(tfidf,open('vectorizer.pkl','wb'))\n",
    "pickle.dump(mnb,open('model.pkl','wb'))"
   ]
  },
  {
   "cell_type": "code",
   "execution_count": 107,
   "id": "d1c7e49b",
   "metadata": {},
   "outputs": [],
   "source": [
    "#splitting the training and testing data in test size 0.1\n",
    "X_train1, X_test1, y_train1, y_test1 = train_test_split(X, y, test_size=0.1, random_state=2)\n",
    "tfidf.fit(X_train1)\n",
    "X_train_data1 = tfidf.transform(X_train1)\n",
    "X_test_data1 = tfidf.transform(X_test1)"
   ]
  },
  {
   "cell_type": "code",
   "execution_count": 108,
   "id": "49266044",
   "metadata": {},
   "outputs": [
    {
     "name": "stdout",
     "output_type": "stream",
     "text": [
      "0.9674226804123711\n",
      "[[2390   13]\n",
      " [ 145 2302]]\n",
      "0.9943844492440604\n"
     ]
    }
   ],
   "source": [
    "mnb1 = mnb.fit(X_train_data1,y_train1)\n",
    "y_pred_mnb1 =mnb1.predict(X_test_data1)\n",
    "print(accuracy_score(y_test1,y_pred_mnb1))\n",
    "print(confusion_matrix(y_test1,y_pred_mnb1))\n",
    "print(precision_score(y_test1,y_pred_mnb1))"
   ]
  },
  {
   "cell_type": "code",
   "execution_count": 109,
   "id": "459b8cb9",
   "metadata": {},
   "outputs": [
    {
     "name": "stdout",
     "output_type": "stream",
     "text": [
      "0.9936082474226804\n",
      "[[2376   27]\n",
      " [   4 2443]]\n",
      "0.9890688259109311\n"
     ]
    }
   ],
   "source": [
    "svc1 = svc.fit(X_train_data1,y_train1)\n",
    "y_pred_svc1 =svc1.predict(X_test_data1)\n",
    "print(accuracy_score(y_test1,y_pred_svc1))\n",
    "print(confusion_matrix(y_test1,y_pred_svc1))\n",
    "print(precision_score(y_test1,y_pred_svc1))"
   ]
  },
  {
   "cell_type": "code",
   "execution_count": 111,
   "id": "3356d9d0",
   "metadata": {},
   "outputs": [
    {
     "name": "stdout",
     "output_type": "stream",
     "text": [
      "0.9911340206185567\n",
      "[[2378   25]\n",
      " [  18 2429]]\n",
      "0.9898125509372453\n"
     ]
    }
   ],
   "source": [
    "rfc1 = rfc.fit(X_train_data1,y_train1)\n",
    "y_pred_rfc1 =rfc1.predict(X_test_data1)\n",
    "print(accuracy_score(y_test1,y_pred_rfc1))\n",
    "print(confusion_matrix(y_test1,y_pred_rfc1))\n",
    "print(precision_score(y_test1,y_pred_rfc1))"
   ]
  },
  {
   "cell_type": "code",
   "execution_count": null,
   "id": "7c3d0ce1",
   "metadata": {},
   "outputs": [],
   "source": []
  },
  {
   "cell_type": "code",
   "execution_count": 112,
   "id": "e1b05f19",
   "metadata": {},
   "outputs": [],
   "source": [
    "#splitting the training and testing data in test size 0.3\n",
    "X_train, X_test, y_train, y_test = train_test_split(X, y, test_size=0.3, random_state=2)\n",
    "tfidf.fit(X_train)\n",
    "X_train_data = tfidf.transform(X_train)\n",
    "X_test_data = tfidf.transform(X_test)"
   ]
  },
  {
   "cell_type": "code",
   "execution_count": 113,
   "id": "e69eee6c",
   "metadata": {},
   "outputs": [
    {
     "name": "stdout",
     "output_type": "stream",
     "text": [
      "0.9674869397855376\n",
      "[[7230   39]\n",
      " [ 434 6845]]\n",
      "0.9943346891342243\n"
     ]
    }
   ],
   "source": [
    "mnb2 = mnb.fit(X_train_data,y_train)\n",
    "y_pred_mnb2 =mnb2.predict(X_test_data)\n",
    "print(accuracy_score(y_test,y_pred_mnb2))\n",
    "print(confusion_matrix(y_test,y_pred_mnb2))\n",
    "print(precision_score(y_test,y_pred_mnb2))"
   ]
  },
  {
   "cell_type": "code",
   "execution_count": 114,
   "id": "d1c5fda2",
   "metadata": {},
   "outputs": [
    {
     "name": "stdout",
     "output_type": "stream",
     "text": [
      "0.9942260104481716\n",
      "[[7199   70]\n",
      " [  14 7265]]\n",
      "0.9904567143830948\n"
     ]
    }
   ],
   "source": [
    "svc2 = svc.fit(X_train_data,y_train)\n",
    "y_pred_svc2 =svc2.predict(X_test_data)\n",
    "print(accuracy_score(y_test,y_pred_svc2))\n",
    "print(confusion_matrix(y_test,y_pred_svc2))\n",
    "print(precision_score(y_test,y_pred_svc2))"
   ]
  },
  {
   "cell_type": "code",
   "execution_count": 115,
   "id": "844cb983",
   "metadata": {},
   "outputs": [
    {
     "name": "stdout",
     "output_type": "stream",
     "text": [
      "0.9899642562551554\n",
      "[[7210   59]\n",
      " [  87 7192]]\n",
      "0.9918631912839608\n"
     ]
    }
   ],
   "source": [
    "rfc2 = rfc.fit(X_train_data,y_train)\n",
    "y_pred_rfc2 =rfc2.predict(X_test_data)\n",
    "print(accuracy_score(y_test,y_pred_rfc2))\n",
    "print(confusion_matrix(y_test,y_pred_rfc2))\n",
    "print(precision_score(y_test,y_pred_rfc2))"
   ]
  },
  {
   "cell_type": "code",
   "execution_count": null,
   "id": "9ee6ad47",
   "metadata": {},
   "outputs": [],
   "source": []
  },
  {
   "cell_type": "code",
   "execution_count": null,
   "id": "f520e013",
   "metadata": {},
   "outputs": [],
   "source": []
  },
  {
   "cell_type": "code",
   "execution_count": null,
   "id": "2e863ad9",
   "metadata": {},
   "outputs": [],
   "source": [
    "def remove_username(text):\n",
    "    return re.sub('@[^\\s]+','',text)\n",
    "def remove_urls(text):\n",
    "    return re.sub(r\"((http\\S+)|(www\\.))\",'',text)\n",
    "def remove_emailaddress(text):\n",
    "    return re.sub(r'^.+@[^\\.].*\\.[a-z]{2,}$','',text)\n",
    "def remove_webaddress(text):\n",
    "    return re.sub(r'^http\\://[a-zA-Z0-9\\-\\.]+\\.[a-zA-Z]{2,3}(/\\S*)?$','',text)\n",
    "def remove_dollars(text):\n",
    "    return re.sub(r'£|\\$','',text)\n",
    "def remove_phonenumber(text):\n",
    "    return re.sub(r'^\\(?[\\d]{3}\\)?[\\s-]?[\\d]{3}[\\s-]?[\\d]{4}$','',text)\n",
    "def remove_singlespace(text):\n",
    "    return re.sub(r'\\s+', ' ',text)\n",
    "def remove_single_char(text):\n",
    "    return re.sub(r'\\b[a-zA-Z]\\b','',text)\n",
    "\n",
    "def remove_multiple(text):\n",
    "    return re.sub(\"(.)\\\\1{2,}\",\"\\\\1\",text)\n",
    "\n",
    "\n",
    "#tokenizer = ToktokTokenizer()\n",
    "#stopword_list=nltk.corpus.stopwords.words('english')\n",
    "#def remove_stopwords(text):\n",
    "#    tokens = tokenizer.tokenize(text)\n",
    "#    text =[]\n",
    "#    for token in tokens:\n",
    "#        if token.isalnum():\n",
    "#            text.append(token)\n",
    "#        token = text[:]\n",
    "#        text.clear()\n",
    "#    tokens = [token.strip() for token in tokens]\n",
    "#    tokens = [token.lower() for token in tokens]\n",
    "#    filtered_tokens = [token for token in tokens if token not in stopword_list]\n",
    "#    filtered_tokens = ' '.join(filtered_tokens)\n",
    "#    return filtered_tokens\n",
    "\n",
    "\n",
    "ps = PorterStemmer()\n",
    "def stemmer(text):\n",
    "    token_words = nltk.word_tokenize(text)\n",
    "    stemmedtext = []\n",
    "    for word in token_words:  \n",
    "        stemmedtext.append(ps.stem(word))\n",
    "        stemmedtext.append(\" \")\n",
    "    return \"\".join(stemmedtext)\n",
    "\n",
    "\n",
    "n = nltk.WordNetLemmatizer()\n",
    "def lemmas(text):\n",
    "    token_words = nltk.word_tokenize(text)\n",
    "    lemmatizedtext = []\n",
    "    for word in token_words:  \n",
    "        lemmatizedtext.append(n.lemmatize(word))\n",
    "        lemmatizedtext.append(\" \")\n",
    "    return \"\".join(lemmatizedtext)"
   ]
  },
  {
   "cell_type": "code",
   "execution_count": null,
   "id": "ab3041fa",
   "metadata": {},
   "outputs": [],
   "source": [
    "def text_preprocessing(text):\n",
    "    # convert text to lowercase\n",
    "    text = text.lower()\n",
    "\n",
    "    # word tokenizing\n",
    "    tokens = word_tokenize(text)\n",
    "\n",
    "    # removing noise: numbers, stopwords, and punctuation\n",
    "    lang_stopwords = stopwords.words(\"english\")\n",
    "    tokens = [token for token in tokens if not token.isdigit() and \\\n",
    "                            not token in string.punctuation and \\\n",
    "                                token not in lang_stopwords]\n",
    "\n",
    "    \n",
    "    n = nltk.WordNetLemmatizer()\n",
    "    tokens = [n.lemmatize(token) for token in tokens]\n",
    "\n",
    "    # join tokens and form string\n",
    "    preprocessed_text = \" \".join(tokens)\n",
    "\n",
    "    return preprocessed_text"
   ]
  },
  {
   "cell_type": "code",
   "execution_count": null,
   "id": "eda8e11e",
   "metadata": {},
   "outputs": [],
   "source": [
    "from nltk.corpus import stopwords\n",
    "import string\n",
    "from nltk.stem.porter import PorterStemmer\n",
    "from nltk.stem import WordNetLemmatizer\n",
    "\n",
    "from nltk.tokenize import word_tokenize\n",
    "from nltk.corpus import stopwords\n",
    "from nltk import SnowballStemmer\n",
    "import string\n",
    "\n",
    "ps=PorterStemmer()\n",
    "\n",
    "n = nltk.WordNetLemmatizer()"
   ]
  },
  {
   "cell_type": "code",
   "execution_count": null,
   "id": "315c3b1a",
   "metadata": {},
   "outputs": [],
   "source": [
    "import json\n",
    "with open('contractions.json','r') as f:\n",
    "    contractions_dict = json.load(f)\n",
    "contractions = contractions_dict['contractions']\n",
    "def replace_contractions(text):\n",
    "    for word in text.split():\n",
    "        if word.lower()  in contractions:\n",
    "            text = text.replace(word,contractions[word.lower()])\n",
    "    return text"
   ]
  }
 ],
 "metadata": {
  "kernelspec": {
   "display_name": "Python 3",
   "language": "python",
   "name": "python3"
  },
  "language_info": {
   "codemirror_mode": {
    "name": "ipython",
    "version": 3
   },
   "file_extension": ".py",
   "mimetype": "text/x-python",
   "name": "python",
   "nbconvert_exporter": "python",
   "pygments_lexer": "ipython3",
   "version": "3.8.8"
  }
 },
 "nbformat": 4,
 "nbformat_minor": 5
}
